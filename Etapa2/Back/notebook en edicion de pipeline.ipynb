{
 "cells": [
  {
   "cell_type": "markdown",
   "id": "b0d04020-af60-4827-9be8-a6f69fcc26aa",
   "metadata": {
    "id": "b0d04020-af60-4827-9be8-a6f69fcc26aa",
    "tags": []
   },
   "source": [
    "# Proyecto 1: Etapa 2 - Inteligencia de negocios"
   ]
  },
  {
   "cell_type": "markdown",
   "id": "a96b0556-372d-486e-91ae-5d08a36b2f5a",
   "metadata": {
    "id": "a96b0556-372d-486e-91ae-5d08a36b2f5a"
   },
   "source": [
    "**Nicolas Camargo - 202020782**\n",
    "\n",
    "**Pablo Pedreros - 202112491**\n",
    "\n",
    "**Jairo Garavito Correa - 202111499**"
   ]
  },
  {
   "cell_type": "markdown",
   "id": "95c2ca4c-7a2c-4433-880d-b10d140a7a08",
   "metadata": {
    "id": "95c2ca4c-7a2c-4433-880d-b10d140a7a08"
   },
   "source": [
    "# Problema\n",
    "Con fin de apoyar el objetivo de estos agentes del sector de turismo en Colombia, de lograr establecer un analisis sobre un conjunto de reseñas turisticas y las respectivas calificaciones dadas por los clientes, se establecerá un modelo de clasificación en base a la analítica de estos textos, con técnicas de aprendizaje y de procesamiento de lenguaje natural que logren de buena forma relacionar la reseña con su respectiva calificación y generar un modelo predictivo para la calificación de datos nuevos."
   ]
  },
  {
   "cell_type": "markdown",
   "id": "ebb35117-99a7-4035-9144-fb003a403586",
   "metadata": {
    "id": "ebb35117-99a7-4035-9144-fb003a403586",
    "tags": []
   },
   "source": [
    "# 1. Importacion de librerias"
   ]
  },
  {
   "cell_type": "code",
   "execution_count": 1,
   "id": "acafa847-3f4b-48fe-b6ec-e046cadc9d12",
   "metadata": {
    "colab": {
     "base_uri": "https://localhost:8080/"
    },
    "id": "acafa847-3f4b-48fe-b6ec-e046cadc9d12",
    "outputId": "217338b1-9a4f-4b37-c6f8-14ef284800be"
   },
   "outputs": [
    {
     "name": "stdout",
     "output_type": "stream",
     "text": [
      "Defaulting to user installation because normal site-packages is not writeable\n",
      "Requirement already satisfied: contractions in c:\\users\\pablo\\appdata\\roaming\\python\\python311\\site-packages (0.1.73)\n",
      "Requirement already satisfied: textsearch>=0.0.21 in c:\\users\\pablo\\appdata\\roaming\\python\\python311\\site-packages (from contractions) (0.0.24)\n",
      "Requirement already satisfied: anyascii in c:\\users\\pablo\\appdata\\roaming\\python\\python311\\site-packages (from textsearch>=0.0.21->contractions) (0.3.2)\n",
      "Requirement already satisfied: pyahocorasick in c:\\users\\pablo\\appdata\\roaming\\python\\python311\\site-packages (from textsearch>=0.0.21->contractions) (2.1.0)\n"
     ]
    }
   ],
   "source": [
    " # Librería para manejar las contracciones que se presentan en el inglés.\n",
    "!pip install contractions"
   ]
  },
  {
   "cell_type": "code",
   "execution_count": 2,
   "id": "86e94cf7-c2ad-4496-9175-c43abd9a3926",
   "metadata": {
    "colab": {
     "base_uri": "https://localhost:8080/"
    },
    "id": "86e94cf7-c2ad-4496-9175-c43abd9a3926",
    "outputId": "bcb69371-9231-4065-8960-e2267882537d"
   },
   "outputs": [
    {
     "name": "stdout",
     "output_type": "stream",
     "text": [
      "Defaulting to user installation because normal site-packages is not writeable\n",
      "Requirement already satisfied: scikit-plot in c:\\users\\pablo\\appdata\\roaming\\python\\python311\\site-packages (0.3.7)\n",
      "Requirement already satisfied: matplotlib>=1.4.0 in c:\\programdata\\anaconda3\\lib\\site-packages (from scikit-plot) (3.8.0)\n",
      "Requirement already satisfied: scikit-learn>=0.18 in c:\\programdata\\anaconda3\\lib\\site-packages (from scikit-plot) (1.2.2)\n",
      "Requirement already satisfied: scipy>=0.9 in c:\\programdata\\anaconda3\\lib\\site-packages (from scikit-plot) (1.11.4)\n",
      "Requirement already satisfied: joblib>=0.10 in c:\\users\\pablo\\appdata\\roaming\\python\\python311\\site-packages (from scikit-plot) (1.1.1)\n",
      "Requirement already satisfied: contourpy>=1.0.1 in c:\\programdata\\anaconda3\\lib\\site-packages (from matplotlib>=1.4.0->scikit-plot) (1.2.0)\n",
      "Requirement already satisfied: cycler>=0.10 in c:\\programdata\\anaconda3\\lib\\site-packages (from matplotlib>=1.4.0->scikit-plot) (0.11.0)\n",
      "Requirement already satisfied: fonttools>=4.22.0 in c:\\programdata\\anaconda3\\lib\\site-packages (from matplotlib>=1.4.0->scikit-plot) (4.25.0)\n",
      "Requirement already satisfied: kiwisolver>=1.0.1 in c:\\programdata\\anaconda3\\lib\\site-packages (from matplotlib>=1.4.0->scikit-plot) (1.4.4)\n",
      "Requirement already satisfied: numpy<2,>=1.21 in c:\\programdata\\anaconda3\\lib\\site-packages (from matplotlib>=1.4.0->scikit-plot) (1.26.3)\n",
      "Requirement already satisfied: packaging>=20.0 in c:\\programdata\\anaconda3\\lib\\site-packages (from matplotlib>=1.4.0->scikit-plot) (23.1)\n",
      "Requirement already satisfied: pillow>=6.2.0 in c:\\programdata\\anaconda3\\lib\\site-packages (from matplotlib>=1.4.0->scikit-plot) (10.0.1)\n",
      "Requirement already satisfied: pyparsing>=2.3.1 in c:\\programdata\\anaconda3\\lib\\site-packages (from matplotlib>=1.4.0->scikit-plot) (3.0.9)\n",
      "Requirement already satisfied: python-dateutil>=2.7 in c:\\programdata\\anaconda3\\lib\\site-packages (from matplotlib>=1.4.0->scikit-plot) (2.8.2)\n",
      "Requirement already satisfied: threadpoolctl>=2.0.0 in c:\\programdata\\anaconda3\\lib\\site-packages (from scikit-learn>=0.18->scikit-plot) (2.2.0)\n",
      "Requirement already satisfied: six>=1.5 in c:\\programdata\\anaconda3\\lib\\site-packages (from python-dateutil>=2.7->matplotlib>=1.4.0->scikit-plot) (1.16.0)\n",
      "Defaulting to user installation because normal site-packages is not writeable\n",
      "Requirement already satisfied: ydata-profiling in c:\\users\\pablo\\appdata\\roaming\\python\\python311\\site-packages (4.7.0)\n",
      "Requirement already satisfied: scipy<1.12,>=1.4.1 in c:\\programdata\\anaconda3\\lib\\site-packages (from ydata-profiling) (1.11.4)\n",
      "Requirement already satisfied: pandas!=1.4.0,<3,>1.1 in c:\\programdata\\anaconda3\\lib\\site-packages (from ydata-profiling) (2.1.4)\n",
      "Requirement already satisfied: matplotlib<3.9,>=3.2 in c:\\programdata\\anaconda3\\lib\\site-packages (from ydata-profiling) (3.8.0)\n",
      "Requirement already satisfied: pydantic>=2 in c:\\users\\pablo\\appdata\\roaming\\python\\python311\\site-packages (from ydata-profiling) (2.6.4)\n",
      "Requirement already satisfied: PyYAML<6.1,>=5.0.0 in c:\\programdata\\anaconda3\\lib\\site-packages (from ydata-profiling) (6.0.1)\n",
      "Requirement already satisfied: jinja2<3.2,>=2.11.1 in c:\\programdata\\anaconda3\\lib\\site-packages (from ydata-profiling) (3.1.3)\n",
      "Requirement already satisfied: visions[type_image_path]<0.7.7,>=0.7.5 in c:\\users\\pablo\\appdata\\roaming\\python\\python311\\site-packages (from ydata-profiling) (0.7.6)\n",
      "Requirement already satisfied: numpy<2,>=1.16.0 in c:\\programdata\\anaconda3\\lib\\site-packages (from ydata-profiling) (1.26.3)\n",
      "Requirement already satisfied: htmlmin==0.1.12 in c:\\users\\pablo\\appdata\\roaming\\python\\python311\\site-packages (from ydata-profiling) (0.1.12)\n",
      "Requirement already satisfied: phik<0.13,>=0.11.1 in c:\\users\\pablo\\appdata\\roaming\\python\\python311\\site-packages (from ydata-profiling) (0.12.4)\n",
      "Requirement already satisfied: requests<3,>=2.24.0 in c:\\programdata\\anaconda3\\lib\\site-packages (from ydata-profiling) (2.31.0)\n",
      "Requirement already satisfied: tqdm<5,>=4.48.2 in c:\\programdata\\anaconda3\\lib\\site-packages (from ydata-profiling) (4.65.0)\n",
      "Requirement already satisfied: seaborn<0.13,>=0.10.1 in c:\\programdata\\anaconda3\\lib\\site-packages (from ydata-profiling) (0.12.2)\n",
      "Requirement already satisfied: multimethod<2,>=1.4 in c:\\users\\pablo\\appdata\\roaming\\python\\python311\\site-packages (from ydata-profiling) (1.11.2)\n",
      "Requirement already satisfied: statsmodels<1,>=0.13.2 in c:\\programdata\\anaconda3\\lib\\site-packages (from ydata-profiling) (0.14.0)\n",
      "Requirement already satisfied: typeguard<5,>=4.1.2 in c:\\users\\pablo\\appdata\\roaming\\python\\python311\\site-packages (from ydata-profiling) (4.2.1)\n",
      "Requirement already satisfied: imagehash==4.3.1 in c:\\users\\pablo\\appdata\\roaming\\python\\python311\\site-packages (from ydata-profiling) (4.3.1)\n",
      "Requirement already satisfied: wordcloud>=1.9.1 in c:\\users\\pablo\\appdata\\roaming\\python\\python311\\site-packages (from ydata-profiling) (1.9.3)\n",
      "Requirement already satisfied: dacite>=1.8 in c:\\users\\pablo\\appdata\\roaming\\python\\python311\\site-packages (from ydata-profiling) (1.8.1)\n",
      "Requirement already satisfied: numba<1,>=0.56.0 in c:\\programdata\\anaconda3\\lib\\site-packages (from ydata-profiling) (0.58.1)\n",
      "Requirement already satisfied: PyWavelets in c:\\programdata\\anaconda3\\lib\\site-packages (from imagehash==4.3.1->ydata-profiling) (1.5.0)\n",
      "Requirement already satisfied: pillow in c:\\programdata\\anaconda3\\lib\\site-packages (from imagehash==4.3.1->ydata-profiling) (10.0.1)\n",
      "Requirement already satisfied: MarkupSafe>=2.0 in c:\\programdata\\anaconda3\\lib\\site-packages (from jinja2<3.2,>=2.11.1->ydata-profiling) (2.1.3)\n",
      "Requirement already satisfied: contourpy>=1.0.1 in c:\\programdata\\anaconda3\\lib\\site-packages (from matplotlib<3.9,>=3.2->ydata-profiling) (1.2.0)\n",
      "Requirement already satisfied: cycler>=0.10 in c:\\programdata\\anaconda3\\lib\\site-packages (from matplotlib<3.9,>=3.2->ydata-profiling) (0.11.0)\n",
      "Requirement already satisfied: fonttools>=4.22.0 in c:\\programdata\\anaconda3\\lib\\site-packages (from matplotlib<3.9,>=3.2->ydata-profiling) (4.25.0)\n",
      "Requirement already satisfied: kiwisolver>=1.0.1 in c:\\programdata\\anaconda3\\lib\\site-packages (from matplotlib<3.9,>=3.2->ydata-profiling) (1.4.4)\n",
      "Requirement already satisfied: packaging>=20.0 in c:\\programdata\\anaconda3\\lib\\site-packages (from matplotlib<3.9,>=3.2->ydata-profiling) (23.1)\n",
      "Requirement already satisfied: pyparsing>=2.3.1 in c:\\programdata\\anaconda3\\lib\\site-packages (from matplotlib<3.9,>=3.2->ydata-profiling) (3.0.9)\n",
      "Requirement already satisfied: python-dateutil>=2.7 in c:\\programdata\\anaconda3\\lib\\site-packages (from matplotlib<3.9,>=3.2->ydata-profiling) (2.8.2)\n",
      "Requirement already satisfied: llvmlite<0.42,>=0.41.0dev0 in c:\\programdata\\anaconda3\\lib\\site-packages (from numba<1,>=0.56.0->ydata-profiling) (0.41.0)\n",
      "Requirement already satisfied: pytz>=2020.1 in c:\\programdata\\anaconda3\\lib\\site-packages (from pandas!=1.4.0,<3,>1.1->ydata-profiling) (2023.3.post1)\n",
      "Requirement already satisfied: tzdata>=2022.1 in c:\\programdata\\anaconda3\\lib\\site-packages (from pandas!=1.4.0,<3,>1.1->ydata-profiling) (2023.3)\n",
      "Requirement already satisfied: joblib>=0.14.1 in c:\\users\\pablo\\appdata\\roaming\\python\\python311\\site-packages (from phik<0.13,>=0.11.1->ydata-profiling) (1.1.1)\n",
      "Requirement already satisfied: annotated-types>=0.4.0 in c:\\users\\pablo\\appdata\\roaming\\python\\python311\\site-packages (from pydantic>=2->ydata-profiling) (0.6.0)\n",
      "Requirement already satisfied: pydantic-core==2.16.3 in c:\\users\\pablo\\appdata\\roaming\\python\\python311\\site-packages (from pydantic>=2->ydata-profiling) (2.16.3)\n",
      "Requirement already satisfied: typing-extensions>=4.6.1 in c:\\users\\pablo\\appdata\\roaming\\python\\python311\\site-packages (from pydantic>=2->ydata-profiling) (4.10.0)\n",
      "Requirement already satisfied: charset-normalizer<4,>=2 in c:\\programdata\\anaconda3\\lib\\site-packages (from requests<3,>=2.24.0->ydata-profiling) (2.0.4)\n",
      "Requirement already satisfied: idna<4,>=2.5 in c:\\programdata\\anaconda3\\lib\\site-packages (from requests<3,>=2.24.0->ydata-profiling) (3.4)\n",
      "Requirement already satisfied: urllib3<3,>=1.21.1 in c:\\programdata\\anaconda3\\lib\\site-packages (from requests<3,>=2.24.0->ydata-profiling) (1.26.18)\n",
      "Requirement already satisfied: certifi>=2017.4.17 in c:\\programdata\\anaconda3\\lib\\site-packages (from requests<3,>=2.24.0->ydata-profiling) (2024.2.2)\n",
      "Requirement already satisfied: patsy>=0.5.2 in c:\\programdata\\anaconda3\\lib\\site-packages (from statsmodels<1,>=0.13.2->ydata-profiling) (0.5.3)\n",
      "Requirement already satisfied: colorama in c:\\programdata\\anaconda3\\lib\\site-packages (from tqdm<5,>=4.48.2->ydata-profiling) (0.4.6)\n",
      "Requirement already satisfied: attrs>=19.3.0 in c:\\programdata\\anaconda3\\lib\\site-packages (from visions[type_image_path]<0.7.7,>=0.7.5->ydata-profiling) (23.1.0)\n",
      "Requirement already satisfied: networkx>=2.4 in c:\\programdata\\anaconda3\\lib\\site-packages (from visions[type_image_path]<0.7.7,>=0.7.5->ydata-profiling) (3.1)\n",
      "Requirement already satisfied: six in c:\\programdata\\anaconda3\\lib\\site-packages (from patsy>=0.5.2->statsmodels<1,>=0.13.2->ydata-profiling) (1.16.0)\n"
     ]
    }
   ],
   "source": [
    "# Manejo de gráficas\n",
    "!pip install scikit-plot\n",
    "# Instalar perfilamiento en pandas\n",
    "!pip install ydata-profiling\n"
   ]
  },
  {
   "cell_type": "code",
   "execution_count": 3,
   "id": "90e885dd-1e7d-4305-9ca1-2a9432abb91b",
   "metadata": {
    "colab": {
     "base_uri": "https://localhost:8080/"
    },
    "id": "90e885dd-1e7d-4305-9ca1-2a9432abb91b",
    "outputId": "7ad47f05-02f7-4cbb-a861-355208f28bb3"
   },
   "outputs": [
    {
     "name": "stderr",
     "output_type": "stream",
     "text": [
      "[nltk_data] Downloading package punkt to\n",
      "[nltk_data]     C:\\Users\\pablo\\AppData\\Roaming\\nltk_data...\n",
      "[nltk_data]   Package punkt is already up-to-date!\n"
     ]
    },
    {
     "data": {
      "text/plain": [
       "True"
      ]
     },
     "execution_count": 3,
     "metadata": {},
     "output_type": "execute_result"
    }
   ],
   "source": [
    "# librería Natural Language Toolkit, usada para trabajar con textos\n",
    "import nltk\n",
    "# Punkt permite separar un texto en frases.\n",
    "nltk.download('punkt')"
   ]
  },
  {
   "cell_type": "code",
   "execution_count": 4,
   "id": "4069a950-6beb-4ece-a8ee-ed9ef2ffd76a",
   "metadata": {
    "colab": {
     "base_uri": "https://localhost:8080/"
    },
    "id": "4069a950-6beb-4ece-a8ee-ed9ef2ffd76a",
    "outputId": "b0e196dd-85c5-4f45-c494-8b38363f4d84"
   },
   "outputs": [
    {
     "name": "stderr",
     "output_type": "stream",
     "text": [
      "[nltk_data] Downloading package stopwords to\n",
      "[nltk_data]     C:\\Users\\pablo\\AppData\\Roaming\\nltk_data...\n",
      "[nltk_data]   Package stopwords is already up-to-date!\n"
     ]
    },
    {
     "data": {
      "text/plain": [
       "True"
      ]
     },
     "execution_count": 4,
     "metadata": {},
     "output_type": "execute_result"
    }
   ],
   "source": [
    "# Descarga todas las palabras vacias, es decir, aquellas que no aportan nada al significado del texto\n",
    "nltk.download('stopwords')"
   ]
  },
  {
   "cell_type": "code",
   "execution_count": 5,
   "id": "82ff7cf1-45f6-4c88-a840-5fc192ca0fec",
   "metadata": {
    "colab": {
     "base_uri": "https://localhost:8080/"
    },
    "id": "82ff7cf1-45f6-4c88-a840-5fc192ca0fec",
    "outputId": "52a59f09-5725-4688-b7b9-eb515abfaed3"
   },
   "outputs": [
    {
     "name": "stderr",
     "output_type": "stream",
     "text": [
      "[nltk_data] Downloading package wordnet to\n",
      "[nltk_data]     C:\\Users\\pablo\\AppData\\Roaming\\nltk_data...\n",
      "[nltk_data]   Package wordnet is already up-to-date!\n"
     ]
    },
    {
     "data": {
      "text/plain": [
       "True"
      ]
     },
     "execution_count": 5,
     "metadata": {},
     "output_type": "execute_result"
    }
   ],
   "source": [
    "# Descarga de paquete WordNetLemmatizer, este es usado para encontrar el lema de cada palabra\n",
    "nltk.download('wordnet')"
   ]
  },
  {
   "cell_type": "code",
   "execution_count": null,
   "id": "8d771730-382f-4cd2-8d45-890f94321b45",
   "metadata": {
    "id": "8d771730-382f-4cd2-8d45-890f94321b45",
    "tags": []
   },
   "outputs": [],
   "source": [
    "# Instalación de librerias\n",
    "import pandas as pd\n",
    "import numpy as np\n",
    "import sys\n",
    "import statistics\n",
    "\n",
    "import re, string, unicodedata\n",
    "from nltk import word_tokenize, sent_tokenize\n",
    "from nltk.corpus import stopwords\n",
    "from nltk.stem import SnowballStemmer\n",
    "from nltk.stem import WordNetLemmatizer\n",
    "\n",
    "from sklearn.model_selection import train_test_split,GridSearchCV\n",
    "from sklearn.feature_extraction.text import TfidfVectorizer, CountVectorizer, HashingVectorizer\n",
    "from sklearn.pipeline import Pipeline, FeatureUnion\n",
    "from sklearn.svm import SVC\n",
    "from sklearn.ensemble import BaggingClassifier, RandomForestClassifier, AdaBoostClassifier\n",
    "from sklearn.naive_bayes import BernoulliNB\n",
    "from sklearn.metrics import classification_report, confusion_matrix\n",
    "from sklearn.metrics import confusion_matrix, classification_report, precision_score, recall_score, f1_score, accuracy_score\n",
    "from sklearn.metrics import ConfusionMatrixDisplay\n",
    "from sklearn.model_selection import KFold\n",
    "from sklearn.model_selection import GridSearchCV\n",
    "from sklearn.pipeline import Pipeline\n",
    "\n",
    "from sklearn.base import BaseEstimator, ClassifierMixin\n",
    "\n",
    "import matplotlib.pyplot as plt"
   ]
  },
  {
   "cell_type": "markdown",
   "id": "85b8b8d6-4421-4283-95f8-ac5d1193b62d",
   "metadata": {
    "id": "85b8b8d6-4421-4283-95f8-ac5d1193b62d",
    "tags": []
   },
   "source": [
    "# 2. Perfilamiento y entendimiento de los datos"
   ]
  },
  {
   "cell_type": "markdown",
   "id": "5a87cbd2-ba69-4331-8dc2-7643f551e19b",
   "metadata": {
    "id": "5a87cbd2-ba69-4331-8dc2-7643f551e19b"
   },
   "source": [
    "En primer lugar, realizamos la carga de los dos archivos, de los cuales podemos identificar como contamos con una partición de prueba la cual no contiene los datos etiquetados, donde no encontramos la columna \"Class\" que otorga la calificacion correspondiente a la review en la partición original de entrenamiento."
   ]
  },
  {
   "cell_type": "code",
   "execution_count": null,
   "id": "c5ee4ceb-8407-40f9-977c-1f233a463776",
   "metadata": {
    "colab": {
     "base_uri": "https://localhost:8080/",
     "height": 424
    },
    "id": "c5ee4ceb-8407-40f9-977c-1f233a463776",
    "outputId": "72ac7e44-aca6-474e-8344-4159a8cc1e58",
    "tags": []
   },
   "outputs": [],
   "source": [
    "df = pd.read_csv('tipo1_entrenamiento_estudiantes.csv', delimiter=',')\n",
    "\n",
    "dfData = df\n",
    "dfData"
   ]
  },
  {
   "cell_type": "markdown",
   "id": "fcd832e2-f2c8-4081-93b4-fb4c6664bd51",
   "metadata": {
    "id": "fcd832e2-f2c8-4081-93b4-fb4c6664bd51"
   },
   "source": [
    "Ahora hacemos uso de la funcion value_counts() con el fin de ver los posibles valores que toman las resenas y vemos como estos van en un rango de 1-5, lo cual, es congruente con el problema planteado. No hay invalidez en este sentido."
   ]
  },
  {
   "cell_type": "code",
   "execution_count": null,
   "id": "a075b46b-5804-49b4-872a-da916f9bb2ef",
   "metadata": {
    "colab": {
     "base_uri": "https://localhost:8080/"
    },
    "id": "a075b46b-5804-49b4-872a-da916f9bb2ef",
    "outputId": "a296c6f3-4f79-431e-b4bb-0e1824a7250e",
    "tags": []
   },
   "outputs": [],
   "source": [
    "count = dfData['Class'].value_counts()\n",
    "print(count)"
   ]
  },
  {
   "cell_type": "markdown",
   "id": "c1dd2008-8425-4e18-8bdc-d51bd56f3b16",
   "metadata": {
    "id": "c1dd2008-8425-4e18-8bdc-d51bd56f3b16"
   },
   "source": [
    "Ahora realizamos la vista estadistica de los datos y realizamos un perfilamiento completo con la librería de ydata-profiling, que nos permite ver todas las estadísticas y valores repetidos, entre otros:"
   ]
  },
  {
   "cell_type": "code",
   "execution_count": null,
   "id": "3dd8db84-68c7-445e-a3e4-04bfea626a3d",
   "metadata": {
    "colab": {
     "base_uri": "https://localhost:8080/",
     "height": 917,
     "referenced_widgets": [
      "77aa8b9ba36e46719ef80f348970b92c",
      "ccabea32bb7245c5b34d938260d6f027",
      "4291c68750494635917b1e7f3204dd84",
      "56b2f9a6c10844399e738b8503511792",
      "f613baef51e34beb808d4978a5fa219d",
      "89eb3884cfb34156b02ca3509bc92ca4",
      "5d5c22e63f3941e1a297403131b8dd16",
      "40a3b06f17784b088afe72b91d95e0ea",
      "6f73c60b65a845dba4373d8b7b2d262a",
      "c56daf01d17d469899b5706fd24cb666",
      "9ffd7c40fa1643429d574c42c4a846ea",
      "dfecf60f0a094d3e9d73aff7e6829983",
      "22fa2d6333db4f378238660846033f2e",
      "309e0ebeb78548209494dfa5677d5c9c",
      "8361de67987f497fa584039f6aadd2c7",
      "aa5589d208b6462aa4cca5334ec0d141",
      "120fd78dfc564e7db04dd5d4eab3b4b5",
      "256295ad8be94d0ab1f7764c324343f7",
      "42fd813e0dc64af1b95e1273fad1063a",
      "c9e8ff682f174af782495138a40fdfc9",
      "df29546fefd645a8bd76597dc9b59cd1",
      "8395e0a072fa40329826cfa1ecbba0a0",
      "af1b294ea0ba481ea3e23bd6c9481cd0",
      "63a61e88c2fd4dd9aecaca514e4fa75b",
      "2c4d7e00ecdd48abad7fdfd51d46fcdc",
      "6b0f3b1c71504290bd7086ce3f1a3f8c",
      "6a1f9756f8ad447d8c79009e74ce97ea",
      "56e06099a0a94d72982995386a0ef5b2",
      "b8ef3a70fe9c42f4a0afb67ac1ac0fab",
      "7520e66ed4514641912e0e79b4ff8330",
      "c871149fdb564ea19f7a94f1336b6326",
      "2207a00c13254011940fba956ad3b769",
      "e0171d4da88b4087bcabfaf76a4a6064"
     ]
    },
    "id": "3dd8db84-68c7-445e-a3e4-04bfea626a3d",
    "outputId": "3768f2b1-8e5c-493c-8f83-5ef997da27d1",
    "scrolled": true,
    "tags": []
   },
   "outputs": [],
   "source": [
    "from ydata_profiling import ProfileReport\n",
    "info = dfData.copy()\n",
    "\n",
    "info['Conteo'] = [len(x) for x in info['Review']]\n",
    "info['Moda'] = [[statistics.mode([len(x) for x in i.split(' ')])][0] for i in info['Review']]\n",
    "info['Max'] = [[max([len(x) for x in i.split(' ')])][0] for i in info['Review']]\n",
    "info['Min'] = [[min([len(x) for x in i.split(' ')])][0] for i in info['Review']]\n",
    "\n",
    "ProfileReport(info)"
   ]
  },
  {
   "cell_type": "markdown",
   "id": "19b8f392-476a-4ef8-b58a-93b9eb813a57",
   "metadata": {
    "id": "19b8f392-476a-4ef8-b58a-93b9eb813a57"
   },
   "source": [
    "Ahora realizamos una observación de duplicados en el set:"
   ]
  },
  {
   "cell_type": "code",
   "execution_count": null,
   "id": "53947734-b3fe-4bf3-9326-d72287851ee8",
   "metadata": {
    "colab": {
     "base_uri": "https://localhost:8080/"
    },
    "id": "53947734-b3fe-4bf3-9326-d72287851ee8",
    "outputId": "0dfec782-a08d-40cc-fa49-630e898bec86",
    "tags": []
   },
   "outputs": [],
   "source": [
    "dfData.duplicated().sum()"
   ]
  },
  {
   "cell_type": "markdown",
   "id": "4bd60e05-a302-4c30-adcb-0ceaaec4512b",
   "metadata": {
    "id": "4bd60e05-a302-4c30-adcb-0ceaaec4512b"
   },
   "source": [
    "Como se observa tenemos datos duplicados, tendremos que realizar una limpieza de estos, posiblemente eliminando estos duplicados pues e simprobable que sean datos correctos."
   ]
  },
  {
   "cell_type": "markdown",
   "id": "807bc260-a01c-443a-bc24-ee453bc8bfb2",
   "metadata": {
    "id": "807bc260-a01c-443a-bc24-ee453bc8bfb2"
   },
   "source": [
    "Ademas, observamos el tipo de dato para las columnas del conjunto. Como podemos ver, para review contamos con que es tipo objeto y la class que es la calificacion tiene un tipo int."
   ]
  },
  {
   "cell_type": "code",
   "execution_count": null,
   "id": "58ddf573-d226-43dd-b05b-9c136df0ae74",
   "metadata": {
    "colab": {
     "base_uri": "https://localhost:8080/"
    },
    "id": "58ddf573-d226-43dd-b05b-9c136df0ae74",
    "outputId": "0324f199-a46e-475e-ef62-207c4bdaa4bb",
    "tags": []
   },
   "outputs": [],
   "source": [
    "dfData.info()"
   ]
  },
  {
   "cell_type": "code",
   "execution_count": null,
   "id": "d85b33d5-d55e-4151-b03e-6e847c8007bf",
   "metadata": {
    "colab": {
     "base_uri": "https://localhost:8080/",
     "height": 187
    },
    "id": "d85b33d5-d55e-4151-b03e-6e847c8007bf",
    "outputId": "f2fcff60-8468-4124-e06b-c3de2aa1e011",
    "tags": []
   },
   "outputs": [],
   "source": [
    "dfData.describe"
   ]
  },
  {
   "cell_type": "markdown",
   "id": "c1f7df1c-86c4-4300-b6ef-22ff9742767f",
   "metadata": {
    "id": "c1f7df1c-86c4-4300-b6ef-22ff9742767f",
    "tags": []
   },
   "source": [
    "Contamos con cero valores nulos en el conjunto, como se observa a continuación"
   ]
  },
  {
   "cell_type": "code",
   "execution_count": null,
   "id": "e93688ac-ed7f-4975-aba0-0462282f7775",
   "metadata": {
    "colab": {
     "base_uri": "https://localhost:8080/"
    },
    "id": "e93688ac-ed7f-4975-aba0-0462282f7775",
    "outputId": "8c73f49a-c83c-49ad-eb66-1d4c9f0eeb55",
    "tags": []
   },
   "outputs": [],
   "source": [
    "dfData.isnull().sum()"
   ]
  },
  {
   "cell_type": "markdown",
   "id": "0a4fc1c2-b056-45ff-baa0-3213bc2f3032",
   "metadata": {
    "id": "0a4fc1c2-b056-45ff-baa0-3213bc2f3032",
    "tags": []
   },
   "source": [
    "# 3. Preparación de datos"
   ]
  },
  {
   "cell_type": "markdown",
   "id": "6b94590c-bf6d-4603-b6fb-5dfda3b236c5",
   "metadata": {
    "id": "6b94590c-bf6d-4603-b6fb-5dfda3b236c5",
    "tags": []
   },
   "source": [
    "## 3.1 Limpieza de datos"
   ]
  },
  {
   "cell_type": "markdown",
   "id": "6a49d6d0-3276-4271-a1b8-62b874ed186b",
   "metadata": {
    "id": "6a49d6d0-3276-4271-a1b8-62b874ed186b"
   },
   "source": [
    "Realizaremos la limpieza de datos en este caso haciendo uso de las siguientes funciones que se aplicarán posteriormente junto con la tokenización con el fin de eliminar cierto ruido de que pueden tener los datos y asi tener más limpia la base sobre la cual construir los modelos de analisis de texto. Empezaremos eliminando los duplicados:"
   ]
  },
  {
   "cell_type": "code",
   "execution_count": null,
   "id": "3effa11c-f5eb-47b5-897c-27b0edcd0e5d",
   "metadata": {
    "id": "3effa11c-f5eb-47b5-897c-27b0edcd0e5d"
   },
   "outputs": [],
   "source": [
    "dfData.drop_duplicates(inplace=True)"
   ]
  },
  {
   "cell_type": "markdown",
   "id": "5079d49e-0c73-41b2-90fa-686fec13dd0a",
   "metadata": {
    "id": "5079d49e-0c73-41b2-90fa-686fec13dd0a"
   },
   "source": [
    "En primer lugar para el preprocesamiento, eliminamos todos los caracteres que no sean ASCII puesto que esto no nos permitira realizar un analisis coherente posteriormente de las palabras que afectan a la calificacion."
   ]
  },
  {
   "cell_type": "code",
   "execution_count": null,
   "id": "18d5febf-8fca-41d8-a8cd-4aa4ae415230",
   "metadata": {
    "id": "18d5febf-8fca-41d8-a8cd-4aa4ae415230",
    "tags": []
   },
   "outputs": [],
   "source": [
    "def remove_non_ascii(words):\n",
    "    \"\"\"Remove non-ASCII characters from list of tokenized words\"\"\"\n",
    "    new_words = []\n",
    "    for word in words:\n",
    "        new_word = unicodedata.normalize('NFKD', word).encode('ascii', 'ignore').decode('utf-8', 'ignore')\n",
    "        new_words.append(new_word)\n",
    "    return new_words"
   ]
  },
  {
   "cell_type": "markdown",
   "id": "d938bc7e-8a14-421f-a3ff-1f8436b25b50",
   "metadata": {
    "id": "d938bc7e-8a14-421f-a3ff-1f8436b25b50"
   },
   "source": [
    "Ahora, realizamos la funcion to_lowercase() con el fin de convertir todas las palabras de los datos a minusculas, lo cual es común en el procesamiento de textos para que todas las palabras, sean minúsculas o mayúsculas originalmente, tengan el mismo peso final en la evaluación."
   ]
  },
  {
   "cell_type": "code",
   "execution_count": null,
   "id": "7df9e3ad-4bde-4938-83db-c33e18bfb104",
   "metadata": {
    "id": "7df9e3ad-4bde-4938-83db-c33e18bfb104",
    "tags": []
   },
   "outputs": [],
   "source": [
    "def to_lowercase(words):\n",
    "    new_words = []\n",
    "    for word in words:\n",
    "        new_word = word.lower()  # Convierte la palabra a minúsculas\n",
    "        new_words.append(new_word)\n",
    "    return new_words"
   ]
  },
  {
   "cell_type": "markdown",
   "id": "014b5cf4-b4d0-4c52-bd8c-646959aa6f0f",
   "metadata": {
    "id": "014b5cf4-b4d0-4c52-bd8c-646959aa6f0f",
    "tags": []
   },
   "source": [
    "Para esta función, eliminamos toda puntuación que no aporta realmente en nada y simplemente queda el espacio libre, quitando así puntos, comas, etc."
   ]
  },
  {
   "cell_type": "code",
   "execution_count": null,
   "id": "54d02505-1376-41f2-b2ec-98d7f3b91e37",
   "metadata": {
    "id": "54d02505-1376-41f2-b2ec-98d7f3b91e37",
    "tags": []
   },
   "outputs": [],
   "source": [
    "def remove_punctuation(words):\n",
    "    \"\"\"Remove punctuation from list of tokenized words\"\"\"\n",
    "    new_words = []\n",
    "    for word in words:\n",
    "        new_word = re.sub(r'[^\\w\\s]', '', word)\n",
    "        if new_word != '':\n",
    "            new_words.append(new_word)\n",
    "    return new_words"
   ]
  },
  {
   "cell_type": "markdown",
   "id": "c5cafa4c-745b-493a-83b1-f90354b0ca17",
   "metadata": {
    "id": "c5cafa4c-745b-493a-83b1-f90354b0ca17"
   },
   "source": [
    "Realizamos finalmente, la funcion de remover stopwords, o palabras vacias en espanol, las cuales no tienen mayor peso pues son mas comunicativas que explicativas en la reseña, por ejemplo, palabras como: a, al, algo, ahí, de, entre otros."
   ]
  },
  {
   "cell_type": "code",
   "execution_count": null,
   "id": "5a9f114e-faf8-47f6-a4c0-b526df14f184",
   "metadata": {
    "id": "5a9f114e-faf8-47f6-a4c0-b526df14f184",
    "tags": []
   },
   "outputs": [],
   "source": [
    "def remove_stopwords(words):\n",
    "    stop_words = set(stopwords.words('spanish'))\n",
    "    new_words = [word for word in words if word.lower() not in stop_words]\n",
    "    return new_words"
   ]
  },
  {
   "cell_type": "markdown",
   "id": "66e96ba7-84e8-42f6-9f27-d6fe035b673c",
   "metadata": {
    "id": "66e96ba7-84e8-42f6-9f27-d6fe035b673c"
   },
   "source": [
    "Ahora simplemente, juntamos todas las funciones descritas anteriormente una funcion de preprocesamiento, la cual usaremos en la tokenización para limpiar estos datos y tokenizarlos al tiempo."
   ]
  },
  {
   "cell_type": "code",
   "execution_count": null,
   "id": "5d9d38b5-5e1f-49e0-8e09-0647ae52c355",
   "metadata": {
    "id": "5d9d38b5-5e1f-49e0-8e09-0647ae52c355",
    "tags": []
   },
   "outputs": [],
   "source": [
    "from sklearn.preprocessing import FunctionTransformer\n",
    "def preprocessing(words):\n",
    "    words = to_lowercase(words)\n",
    "    words = remove_punctuation(words)\n",
    "    words = remove_non_ascii(words)\n",
    "    words = remove_stopwords(words)\n",
    "    return words\n",
    "preprocessing_trans = FunctionTransformer(preprocessing)"
   ]
  },
  {
   "cell_type": "code",
   "execution_count": null,
   "id": "24f2d605-d00d-49c5-8b3a-b747d30516c2",
   "metadata": {
    "colab": {
     "base_uri": "https://localhost:8080/"
    },
    "id": "24f2d605-d00d-49c5-8b3a-b747d30516c2",
    "outputId": "149d5c06-d0a5-4a7d-fd4e-4a09709b4176",
    "tags": []
   },
   "outputs": [],
   "source": [
    "total_rows = dfData.shape[0]\n",
    "total_rows"
   ]
  },
  {
   "cell_type": "markdown",
   "id": "b158993e-3b3f-4185-9090-ee6980d691fd",
   "metadata": {
    "id": "b158993e-3b3f-4185-9090-ee6980d691fd",
    "tags": []
   },
   "source": [
    "## 3.2 Tokenización"
   ]
  },
  {
   "cell_type": "markdown",
   "id": "68f2b14e-8c28-41ae-bf0b-1f62829b1842",
   "metadata": {
    "id": "68f2b14e-8c28-41ae-bf0b-1f62829b1842"
   },
   "source": [
    "En este paso, realizaremos la tokenización de cada review por palabras, dividiendo asi todo el texto, lo cual nos ayuda en la posterior clasificación de cada review en una nota dada. De este mismo modo, implementaremos al tiempo la limpieza de datos gracias a la aplicacion de la función preprocessing, por lo cual, de esta lista de tokens (palabras) extraidos de cada review obtendremos solo las palabras importantes, sin ruido, y ya limpias previamente. La tokenización la haremos a nivel de palabras pues solo queremos hacer un análisis de sentimiento sobre el texto, por lo que el uso de ciertas palabras será diciente para saber la opinión del autor de la review, una tokenización a nivel de más palabras juntas haría mucho más complejo el modelo y no sería tan útil en este caso."
   ]
  },
  {
   "cell_type": "code",
   "execution_count": null,
   "id": "4990a0ea-0b4f-43e5-9a42-e42fc778a8de",
   "metadata": {
    "colab": {
     "base_uri": "https://localhost:8080/",
     "height": 206
    },
    "id": "4990a0ea-0b4f-43e5-9a42-e42fc778a8de",
    "outputId": "bcd3d59a-f67d-46f2-feb0-d7eafe449f40",
    "scrolled": true
   },
   "outputs": [],
   "source": [
    "dfData['words'] = dfData['Review'].apply(word_tokenize)\n",
    "dfData.head()"
   ]
  },
  {
   "cell_type": "code",
   "execution_count": null,
   "id": "6b2f7fb2-9f42-40cc-bce8-8edca8315275",
   "metadata": {
    "colab": {
     "base_uri": "https://localhost:8080/",
     "height": 293
    },
    "id": "6b2f7fb2-9f42-40cc-bce8-8edca8315275",
    "outputId": "97233f70-6cc0-413d-997b-6d920833f32f",
    "tags": []
   },
   "outputs": [],
   "source": [
    "dfData['Tokens'] = dfData['words'].apply(preprocessing)\n",
    "dfData.head()"
   ]
  },
  {
   "cell_type": "markdown",
   "id": "4328e396-fedb-413e-b324-bebf52384be8",
   "metadata": {
    "id": "4328e396-fedb-413e-b324-bebf52384be8"
   },
   "source": [
    "Podemos ver como todas las palabras de la review fueron tokenizadas en minúsculas, eliminando las palabras que no aportan información y la puntutación:"
   ]
  },
  {
   "cell_type": "code",
   "execution_count": null,
   "id": "fff9f117-8452-474e-b000-3317f6b937d5",
   "metadata": {
    "colab": {
     "base_uri": "https://localhost:8080/"
    },
    "id": "fff9f117-8452-474e-b000-3317f6b937d5",
    "outputId": "8bf5bee1-e61b-4fda-c707-f47d868cb306",
    "tags": []
   },
   "outputs": [],
   "source": [
    "print(dfData[\"Tokens\"][0],\"\\n\" ,dfData[\"Review\"][0])"
   ]
  },
  {
   "cell_type": "markdown",
   "id": "22c45a29-5269-45d1-b779-a32c0cca922c",
   "metadata": {
    "id": "22c45a29-5269-45d1-b779-a32c0cca922c",
    "tags": []
   },
   "source": [
    "## 3.3 Normalización"
   ]
  },
  {
   "cell_type": "markdown",
   "id": "17e3219f-ceaf-404d-838f-4876ecfd6476",
   "metadata": {
    "id": "17e3219f-ceaf-404d-838f-4876ecfd6476"
   },
   "source": [
    "Ahora haremos uso de esta funcion (stem_and_lematize) que corresponde a la implementacion de dos técnicas importantes que se aplican bastante en el preprocesamiento de textos. Por un lado, tenemos el stemming el cual simplifica las palabras y les da una representación en su forma raíz, agrupando palabras similares en una sola, por ejemplo, \"correr\", \"corredor\", \"corrida\" se convierten simplemente en \"corr\". Ahora del otro lado, tenemos la lematizacion, la cual es un poco mas compleja que el stemming y realiza un proceso para reducir estas palabras a su estado base, también llamado lema. De tal forma, con ambas técnicas se simplifica el entendimiento del texto a nivel de comprensión para el procesamiento de texto, mejorando así la calidad de los datos y la utilidad del modelado, haciendo más simple."
   ]
  },
  {
   "cell_type": "code",
   "execution_count": null,
   "id": "401a55da-4873-4dee-b332-47caa118a456",
   "metadata": {
    "id": "401a55da-4873-4dee-b332-47caa118a456",
    "tags": []
   },
   "outputs": [],
   "source": [
    "stemmer = SnowballStemmer(\"spanish\")\n",
    "lemmatizer = WordNetLemmatizer()\n",
    "\n",
    "def stem_and_lemmatize(words):\n",
    "    stems = [stemmer.stem(word) for word in words]\n",
    "    lemmas = [lemmatizer.lemmatize(word, pos='v') for word in words]\n",
    "    return stems + lemmas\n"
   ]
  },
  {
   "cell_type": "markdown",
   "id": "0d9d9f2b-6a0b-47c2-8f9b-358634bd6033",
   "metadata": {
    "id": "0d9d9f2b-6a0b-47c2-8f9b-358634bd6033"
   },
   "source": [
    "Ahora aplicamos estas técnicas a los tokens."
   ]
  },
  {
   "cell_type": "code",
   "execution_count": null,
   "id": "03a1e611-1843-44a8-a265-a4e950542cd6",
   "metadata": {
    "colab": {
     "base_uri": "https://localhost:8080/",
     "height": 293
    },
    "id": "03a1e611-1843-44a8-a265-a4e950542cd6",
    "outputId": "2fd1ff4c-b1f5-42af-8589-f25b07d84afc",
    "tags": []
   },
   "outputs": [],
   "source": [
    "dfData['Tokens'] = dfData['Tokens'].apply(stem_and_lemmatize)\n",
    "dfData.head()"
   ]
  },
  {
   "cell_type": "markdown",
   "id": "53d10fb6-2b83-4046-82b0-47925e16c623",
   "metadata": {
    "id": "53d10fb6-2b83-4046-82b0-47925e16c623"
   },
   "source": [
    "Vemos cómo los tokens fueron reducidos a sus raíces"
   ]
  },
  {
   "cell_type": "code",
   "execution_count": null,
   "id": "32cb5743-0bb1-4fdd-b52e-2c240c0f66df",
   "metadata": {
    "colab": {
     "base_uri": "https://localhost:8080/"
    },
    "id": "32cb5743-0bb1-4fdd-b52e-2c240c0f66df",
    "outputId": "dd0deaac-0aea-4a6a-934c-31ae85c4ef2f"
   },
   "outputs": [],
   "source": [
    "print(dfData[\"Tokens\"][0],\"\\n\" ,dfData[\"Review\"][0])"
   ]
  },
  {
   "cell_type": "markdown",
   "id": "56f43c49-dacb-4895-807e-fdc783f3a77e",
   "metadata": {
    "id": "56f43c49-dacb-4895-807e-fdc783f3a77e",
    "tags": []
   },
   "source": [
    "## 3.4 Seleccion de campos"
   ]
  },
  {
   "cell_type": "markdown",
   "id": "8d9065d6-bdb5-474f-94e3-f238a2a91de2",
   "metadata": {
    "id": "8d9065d6-bdb5-474f-94e3-f238a2a91de2"
   },
   "source": [
    "Ahora realizaremos la seleccion de la variable objetivo. Aunque, en un primer punto debemos realizar una transformacion para los tokens y que estos queden libres sobre la columna, no en el formato de lista separada por comas palabra por palabra."
   ]
  },
  {
   "cell_type": "code",
   "execution_count": null,
   "id": "32fab275-1c5e-48ee-b670-af599b360a40",
   "metadata": {
    "colab": {
     "base_uri": "https://localhost:8080/",
     "height": 597
    },
    "id": "32fab275-1c5e-48ee-b670-af599b360a40",
    "outputId": "d5108aef-5372-4a83-f739-6baa944e7cc2",
    "tags": []
   },
   "outputs": [],
   "source": [
    "dfData['Tokens'] = dfData['Tokens'].apply(lambda x: ' '.join(map(str, x)))\n",
    "dfData"
   ]
  },
  {
   "cell_type": "markdown",
   "id": "5aa0b426-1f35-4177-a61d-85f70ca60855",
   "metadata": {
    "id": "5aa0b426-1f35-4177-a61d-85f70ca60855"
   },
   "source": [
    "Ahora, debido a que en este desarrollo utilizaremos un modelo de clasificacion, necesitamos tener la variable objetivo numerica. En este caso, nuestra variable objetivo es la columna 'Class', la cual representa la calificación dada por el cliente que dejó la reseña. Esta variable objetivo no es categórica, sino numerica, por lo cual no requerimos hacer una transformacion.\n",
    "\n",
    "Posteriormente, aplicamos las técnicas de vectorización sobre el texto. Usaremos 3 técnicas de vectorización para ver cuál arroja mejores resultados, la primera será binaria, solo indicará si la palabra se encuentra en la reseña, la segunda será un conteo de cuántas veces se encuentra la palabra en la reseña y la tercera ser a de forma Term-frecuency times inverse Document-frecuency que asigna un valor a cada palabra dependiendo del número de veces que aparece en el documento y del número de documentos en los que aparece la palabra, restándole importancia a las palabras que aparecen en muchas reseñas, pues pueden aportar poca información."
   ]
  },
  {
   "cell_type": "code",
   "execution_count": null,
   "id": "04e9cd9e-70fa-4ee7-8bde-54b776efbcde",
   "metadata": {
    "colab": {
     "base_uri": "https://localhost:8080/"
    },
    "id": "04e9cd9e-70fa-4ee7-8bde-54b776efbcde",
    "outputId": "339309b1-80aa-4656-e739-f9b0d1cf1ef0",
    "tags": []
   },
   "outputs": [],
   "source": [
    "X_data, y_data = dfData['Tokens'],dfData['Class']\n",
    "\n",
    "y_data.value_counts()"
   ]
  },
  {
   "cell_type": "code",
   "execution_count": null,
   "id": "de9a91f3-39fb-42d2-acb9-c64520b485d2",
   "metadata": {
    "colab": {
     "base_uri": "https://localhost:8080/"
    },
    "id": "de9a91f3-39fb-42d2-acb9-c64520b485d2",
    "outputId": "b742a039-c45b-4acf-c767-21c94f045ab1",
    "tags": []
   },
   "outputs": [],
   "source": [
    "dummy = CountVectorizer(binary=True)\n",
    "X_dummy = dummy.fit_transform(X_data)\n",
    "print(X_dummy.shape)\n",
    "X_dummy.toarray()[0]"
   ]
  },
  {
   "cell_type": "code",
   "execution_count": null,
   "id": "48ee8bf6-f4db-4ffc-b9ef-4029712c306b",
   "metadata": {
    "colab": {
     "base_uri": "https://localhost:8080/"
    },
    "id": "48ee8bf6-f4db-4ffc-b9ef-4029712c306b",
    "outputId": "b5ba3abb-6046-4f47-dfa7-ff89f7549dd5",
    "tags": []
   },
   "outputs": [],
   "source": [
    "count = CountVectorizer()\n",
    "X_count = count.fit_transform(X_data)\n",
    "print(X_count.shape)\n",
    "X_count.toarray()[0]"
   ]
  },
  {
   "cell_type": "code",
   "execution_count": null,
   "id": "5a674a6e-9594-4605-844b-bb4f58f6982e",
   "metadata": {
    "colab": {
     "base_uri": "https://localhost:8080/"
    },
    "id": "5a674a6e-9594-4605-844b-bb4f58f6982e",
    "outputId": "2783a81f-ac7a-4ba6-d6ee-0b979b381d0d",
    "tags": []
   },
   "outputs": [],
   "source": [
    "tfidf_vectorizer = TfidfVectorizer()\n",
    "\n",
    "# Ajustar y transformar los documentos\n",
    "X_tf_idf = tfidf_vectorizer.fit_transform(X_data)\n",
    "print(X_tf_idf.shape)\n",
    "# Mostrar la representación TF-IDF del primer documento\n",
    "print(\"TF-IDF del primer documento:\")\n",
    "print(X_tf_idf.toarray()[0])"
   ]
  },
  {
   "cell_type": "markdown",
   "id": "5cbdd1d1-35eb-4538-9eea-412201438aa6",
   "metadata": {
    "id": "5cbdd1d1-35eb-4538-9eea-412201438aa6",
    "tags": []
   },
   "source": [
    "# 4. Modelado"
   ]
  },
  {
   "cell_type": "markdown",
   "id": "672c917e-174a-4f21-8cd0-97911a31ffad",
   "metadata": {
    "id": "672c917e-174a-4f21-8cd0-97911a31ffad"
   },
   "source": [
    "## 4.1 Multinomial Naive Bayes"
   ]
  },
  {
   "cell_type": "markdown",
   "id": "d2102173-0e02-4b8c-8221-46f9862fa812",
   "metadata": {
    "id": "d2102173-0e02-4b8c-8221-46f9862fa812"
   },
   "source": [
    "El primer algoritmo a utilizar será el Multinomial Naive Bayes. Los algoritmos de Naive Bayes son buenos para este tipo de tarea y funcionan calculando las probabilidades de las diferentes variables de entrada, dadas las diferentes clases, para luego calcular las probabilidad de que un dato depende a cada una de las clases, dadas las variables de entrada, haciendo uso del teorema de Bayes. Estos algoritmos asumen que hay total independencia entre las variables de entrada, lo que puede no ser cierto en realidad, pero ha mostrado buenos resultados para este tipo de tareas.\n",
    "En este caso usaremos la variante Multinomial Naive Bayes, que es especialmente útil para tareas de clasificación con altas dimensionalidades (como es el caso) con varibales discretas, por lo que para hacer discretas las variables utilizaremos el vector de conteo de palabras."
   ]
  },
  {
   "cell_type": "code",
   "execution_count": null,
   "id": "7bc4edf4-92a8-4ee8-bcea-7dfa8871a326",
   "metadata": {
    "colab": {
     "base_uri": "https://localhost:8080/",
     "height": 75
    },
    "id": "7bc4edf4-92a8-4ee8-bcea-7dfa8871a326",
    "outputId": "619f574f-b040-49dc-b0d9-7d604eebcf67",
    "tags": []
   },
   "outputs": [],
   "source": [
    "from sklearn.naive_bayes import MultinomialNB\n",
    "# Split the data into training and testing sets\n",
    "X_mnb_train, X_mnb_test, y_mnb_train, y_mnb_test = train_test_split(X_count, y_data, test_size=0.2, random_state=42)\n",
    "clf = MultinomialNB(alpha=0.3)\n",
    "clf.fit(X_mnb_train, y_mnb_train)\n",
    "MultinomialNB()"
   ]
  },
  {
   "cell_type": "markdown",
   "id": "54b1a78a-d151-4b2d-b1c3-be5cf0fc2d26",
   "metadata": {
    "id": "54b1a78a-d151-4b2d-b1c3-be5cf0fc2d26",
    "tags": []
   },
   "source": [
    "Ya con el modelo entrenado haremos predicciones sobre los valores de entrenamiento y utilizaremos la matriz de confusión para evaluar los resultados"
   ]
  },
  {
   "cell_type": "code",
   "execution_count": null,
   "id": "4f6bc1c9-61eb-48b2-9e17-a3d949b84253",
   "metadata": {
    "colab": {
     "base_uri": "https://localhost:8080/",
     "height": 536
    },
    "id": "4f6bc1c9-61eb-48b2-9e17-a3d949b84253",
    "outputId": "56df3685-b9d6-4117-df5f-65a956e0fe22",
    "tags": []
   },
   "outputs": [],
   "source": [
    "\n",
    "y_mnb_pred = clf.predict(X_mnb_test)\n",
    "cm = confusion_matrix(y_mnb_test, y_mnb_pred)\n",
    "disp = ConfusionMatrixDisplay(confusion_matrix=cm, display_labels=clf.classes_)\n",
    "disp.plot()\n",
    "\n",
    "plt.show()\n",
    "confusion_matrix(y_mnb_test,y_mnb_pred)"
   ]
  },
  {
   "cell_type": "code",
   "execution_count": null,
   "id": "6c5704b0-f337-4044-906a-fdb7ca938d06",
   "metadata": {
    "colab": {
     "base_uri": "https://localhost:8080/"
    },
    "id": "6c5704b0-f337-4044-906a-fdb7ca938d06",
    "outputId": "690c52e5-1e4a-4c40-9bd9-1d7aef5fec84"
   },
   "outputs": [],
   "source": [
    "print(classification_report(y_mnb_test, y_mnb_pred, labels=clf.classes_))"
   ]
  },
  {
   "cell_type": "markdown",
   "id": "ea28e6dc-8fe7-48d2-abfb-f4953f6aee76",
   "metadata": {
    "id": "ea28e6dc-8fe7-48d2-abfb-f4953f6aee76"
   },
   "source": [
    "Podemos ver que los valores de exactitud y de f1-score no son óptimos, ambos son de menos de 0.5 a pesar de probar con diferentes valores en los hiperparámetros, por lo que el modelo con este algortimo es deficiente. Viendo la matriz de confusión podemos ver que los resultados tienen sentido, pues al algoritmo confunde con frecuencia las reseñas de un grupo con las de grupos cercanos pero no es probable que confunda reseñas de calificación 5 con calificación 1."
   ]
  },
  {
   "cell_type": "markdown",
   "id": "5744b758-36dc-475b-81d1-f27c6e6f161b",
   "metadata": {
    "id": "5744b758-36dc-475b-81d1-f27c6e6f161b"
   },
   "source": [
    "## 4.2 Árbol de decisión"
   ]
  },
  {
   "cell_type": "markdown",
   "id": "89a8c601-d69a-4464-9823-79e876f4b0de",
   "metadata": {
    "id": "89a8c601-d69a-4464-9823-79e876f4b0de"
   },
   "source": [
    "El segundo algoritmo a utilizar será el de clasificador con árboles de decisión. Este algoritmo aprende sobre los datos unas reglas simples con las que evalúa los datos a lo largo de diferentes nodos hasta llegar a una hoja con la clasificación. Cada nodo tienen unas reglas que definirán qué camino toman los datos nuevos a lo largo del árbol basados en los valores de sus variables. Estas reglas las genera el algoritmo calculando qué variables hacen particiones más puras de los datos. Utilizaremos los datos"
   ]
  },
  {
   "cell_type": "code",
   "execution_count": null,
   "id": "c9747257-8d36-48c1-87cf-63a537b206be",
   "metadata": {
    "id": "c9747257-8d36-48c1-87cf-63a537b206be"
   },
   "outputs": [],
   "source": [
    "# Split the data into training and testing sets\n",
    "X_tree_train, X_tree_test, y_tree_train, y_tree_test = train_test_split(X_tf_idf, y_data, test_size=0.2, random_state=42)"
   ]
  },
  {
   "cell_type": "code",
   "execution_count": null,
   "id": "2eef7315-6a56-4445-b867-cc5467ff96e9",
   "metadata": {
    "id": "2eef7315-6a56-4445-b867-cc5467ff96e9"
   },
   "outputs": [],
   "source": [
    "# Para crear el arbol de decisión\n",
    "from sklearn.tree import DecisionTreeClassifier\n",
    "arbol = DecisionTreeClassifier(criterion='entropy', max_depth = 8, random_state=0)\n",
    "arbol = arbol.fit(X_tree_train,y_tree_train)"
   ]
  },
  {
   "cell_type": "markdown",
   "id": "3a19cf18-cdb4-4848-9b52-17d769e193cb",
   "metadata": {
    "id": "3a19cf18-cdb4-4848-9b52-17d769e193cb"
   },
   "source": [
    "Utilizaremos validación cruzada con Kfold para buscar los valores más ópitmos de los hiperparámetros. Dividiremos el conjunto en 10 pliegues y haremos la validación con dos criterios diferentes del algiritmo para decidir la mejor partición y con diferentes niveles de profundidad máxima en el árbol."
   ]
  },
  {
   "cell_type": "code",
   "execution_count": null,
   "id": "ec425c25-8052-4c75-9a92-03f50a01d2d7",
   "metadata": {
    "colab": {
     "base_uri": "https://localhost:8080/",
     "height": 118
    },
    "id": "ec425c25-8052-4c75-9a92-03f50a01d2d7",
    "outputId": "9740fc35-1012-4bac-b3bb-0b20939bc033"
   },
   "outputs": [],
   "source": [
    "particiones = KFold(n_splits=10, shuffle=True, random_state = 0)\n",
    "param_grid = {'criterion':['gini', 'entropy'],'max_depth':[4,6,8,10,20,30]}\n",
    "arbol = DecisionTreeClassifier(random_state=0)\n",
    "mejor_arbol = GridSearchCV(arbol, param_grid, cv=particiones)\n",
    "# Ajuste del modelo\n",
    "mejor_arbol.fit(X_tree_train, y_tree_train)"
   ]
  },
  {
   "cell_type": "code",
   "execution_count": null,
   "id": "471ad78d-4bf5-436e-8208-66b52a00684c",
   "metadata": {
    "colab": {
     "base_uri": "https://localhost:8080/"
    },
    "id": "471ad78d-4bf5-436e-8208-66b52a00684c",
    "outputId": "c490d7fe-5109-4fe7-8c6d-ebdb9ceaa4e5"
   },
   "outputs": [],
   "source": [
    "mejor_arbol.best_params_"
   ]
  },
  {
   "cell_type": "code",
   "execution_count": null,
   "id": "ed54ea5b-9e08-4810-99e9-0b82b4fbe46c",
   "metadata": {
    "colab": {
     "base_uri": "https://localhost:8080/"
    },
    "id": "ed54ea5b-9e08-4810-99e9-0b82b4fbe46c",
    "outputId": "16e027ab-a908-4469-c9bb-2af352b633c0"
   },
   "outputs": [],
   "source": [
    "# Obtener el mejor modelo.\n",
    "arbol_final = mejor_arbol.best_estimator_\n",
    "# Probemos ahora este modelo sobre test.\n",
    "y_pred_tree_train = arbol_final.predict(X_tree_train)\n",
    "y_pred_tree_test = arbol_final.predict(X_tree_test)\n",
    "\n",
    "print('Exactitud sobre entrenamiento: %.2f' % accuracy_score(y_tree_train, y_pred_tree_train))\n",
    "print('Exactitud sobre test: %.2f' % accuracy_score(y_tree_test, y_pred_tree_test))\n",
    "\n",
    "\n",
    "print(\"Precisión: {}\".format(precision_score(y_tree_test,y_pred_tree_test, average='weighted')))\n",
    "print(\"Puntuación F1: {}\".format(f1_score(y_tree_test,y_pred_tree_test, average='weighted')))\n"
   ]
  },
  {
   "cell_type": "code",
   "execution_count": null,
   "id": "62508b78-33e8-43cf-b72c-b68e1267be21",
   "metadata": {
    "colab": {
     "base_uri": "https://localhost:8080/",
     "height": 449
    },
    "id": "62508b78-33e8-43cf-b72c-b68e1267be21",
    "outputId": "41641b1a-9e5a-43f2-bba2-d28e60c95a9f"
   },
   "outputs": [],
   "source": [
    "cm = confusion_matrix(y_tree_test,y_pred_tree_test)\n",
    "\n",
    "disp = ConfusionMatrixDisplay(confusion_matrix=cm, display_labels=clf.classes_)\n",
    "disp.plot()\n",
    "\n",
    "plt.show()"
   ]
  },
  {
   "cell_type": "markdown",
   "id": "50bf3d99-70c5-490f-a6e4-4377858e6a1a",
   "metadata": {
    "id": "50bf3d99-70c5-490f-a6e4-4377858e6a1a"
   },
   "source": [
    "Nuevamente vemos que los valores de precisión y de exactitud para este nuevo algoritmo son mucho más bajos de lo requerido con los hiperparámetros que se calcularon como los mejores, por lo que este modelo también arroja valores deficientes y en su matriz de confusión vemos el mismo patrón que para el anterior algoritmo que dice que los errores se hicieron al confundir la calificación con valores cercanos."
   ]
  },
  {
   "cell_type": "markdown",
   "id": "f38be617-1151-4791-9db6-ddcd4708b3a9",
   "metadata": {
    "id": "f38be617-1151-4791-9db6-ddcd4708b3a9"
   },
   "source": [
    "## 4.3 Support Vector Machines"
   ]
  },
  {
   "cell_type": "markdown",
   "id": "868c494d-bca1-4772-a1e9-25db09d73636",
   "metadata": {
    "id": "868c494d-bca1-4772-a1e9-25db09d73636"
   },
   "source": [
    "Las SVM son algoritmos especialmente buenos manejando espacios de variables de muchas dimensiones. El algoritmo calcula, con base en los datos ingresados, un hiperplano que separa los puntos en los diferentes grupos. El hiperparámetro más importante de este algoritmo es C, el cula define qué tan cerca está el hiperplano de los puntos del dataset, por lo que un valor más alto de C se ajustará más a los datos de entrenamiento. Luego de probar el valor default de C que es 1, vimos que se sigue cometiendo mucho el error de que los valores se confunden con valores de clases cercanas, por lo que usamos valores altos de C hasta el punto que aumentarlos no aumenta la exactitud sobre el test."
   ]
  },
  {
   "cell_type": "code",
   "execution_count": null,
   "id": "01db7111-1fea-4788-804a-39868a77975b",
   "metadata": {
    "id": "01db7111-1fea-4788-804a-39868a77975b"
   },
   "outputs": [],
   "source": [
    "# Split the data into training and testing sets\n",
    "X_svc_train, X_svc_test, y_svc_train, y_svc_test = train_test_split(X_tf_idf, y_data, test_size=0.2, random_state=42)"
   ]
  },
  {
   "cell_type": "code",
   "execution_count": null,
   "id": "0c2ab602-ab61-470e-b07b-3fb1f96f4885",
   "metadata": {
    "colab": {
     "base_uri": "https://localhost:8080/"
    },
    "id": "0c2ab602-ab61-470e-b07b-3fb1f96f4885",
    "outputId": "2c26f931-a3eb-4e0a-b52a-8199da25e9fa"
   },
   "outputs": [],
   "source": [
    "# Para crear el support vector machine\n",
    "from sklearn.svm import SVC\n",
    "svc = SVC(C=10)\n",
    "svc = svc.fit(X_svc_train,y_svc_train)\n",
    "# Probemos ahora este modelo sobre test.\n",
    "y_pred_svc_train = svc.predict(X_svc_train)\n",
    "y_pred_svc_test = svc.predict(X_svc_test)\n",
    "\n",
    "print('Exactitud sobre entrenamiento: %.2f' % accuracy_score(y_svc_train, y_pred_svc_train))\n",
    "print('Exactitud sobre test: %.2f' % accuracy_score(y_svc_test, y_pred_svc_test))\n",
    "\n",
    "\n",
    "print(\"Precisión: {}\".format(precision_score(y_svc_test,y_pred_svc_test, average='weighted')))\n",
    "print(\"Puntuación F1: {}\".format(f1_score(y_svc_test,y_pred_svc_test, average='weighted')))"
   ]
  },
  {
   "cell_type": "code",
   "execution_count": null,
   "id": "a8b74ab0-aced-49ac-96c6-d5ba08fc2bfc",
   "metadata": {
    "colab": {
     "base_uri": "https://localhost:8080/",
     "height": 449
    },
    "id": "a8b74ab0-aced-49ac-96c6-d5ba08fc2bfc",
    "outputId": "d986a53b-b5be-4174-acb8-4b00e54ffd78"
   },
   "outputs": [],
   "source": [
    "cm = confusion_matrix(y_svc_test,y_pred_svc_test)\n",
    "\n",
    "disp = ConfusionMatrixDisplay(confusion_matrix=cm, display_labels=clf.classes_)\n",
    "disp.plot()\n",
    "\n",
    "plt.show()"
   ]
  },
  {
   "cell_type": "markdown",
   "id": "872afb09-ca99-4e99-8a08-e2c14ee56562",
   "metadata": {
    "id": "872afb09-ca99-4e99-8a08-e2c14ee56562"
   },
   "source": [
    "Vemos que los valores de precisión y de F1 aumentaron ligeramente frente a los algoritmos anteriores, llegando casi a 0.5. Igualmente, el algortimo sigue cometiendo los mismos errores de los algoritmos anteriores de asignar las reseñas a calificaciones cercanas a la real. A pesar de esto, el algoritmo sería útil para tener una primera idea de la calificación de una reseña pues tiende a seguir los patrones que hacen que una calificación sea más alta a pesar de no ser estrictamente preciso, probablemente por patrone smuy similares entre las reseñas de diferentes calificaciones."
   ]
  },
  {
   "cell_type": "markdown",
   "id": "4d285682-794b-4278-a99d-42ea128a7796",
   "metadata": {
    "id": "4d285682-794b-4278-a99d-42ea128a7796"
   },
   "source": [
    "## 4.4 Regresión Ridge"
   ]
  },
  {
   "cell_type": "markdown",
   "id": "8552a476-8be4-43c4-a8da-d93464227388",
   "metadata": {
    "id": "8552a476-8be4-43c4-a8da-d93464227388"
   },
   "source": [
    "Al ver que los algoritmos de clasificación no están dando buenos resultados, se decidió intentar con un algoritmo de regresión. En vez de usar la regresión lineal, utlizaremos la regresión Ridge que mejor, que evita el sobreajuste que puede hacer la regresión lineal al tener muchas variables de entrada por medio de una regularización. Este algoritmo calculará un coeficiente para cada variable de entrada para estimar un valor de la calificación. Como este valor que estima será un número flotante y no un número entero, para la predicción de los valores redondearemos los resultados que nos haya dado la regresión para que queden en números enteros, también haremos que si son mayores a 5 queden fijados en 5, igual que si son menores a 1 queden fijados en 1."
   ]
  },
  {
   "cell_type": "code",
   "execution_count": null,
   "id": "00a14dbf-24bc-4a9f-b356-3c161ad98a8b",
   "metadata": {
    "id": "00a14dbf-24bc-4a9f-b356-3c161ad98a8b"
   },
   "outputs": [],
   "source": [
    "# Split the data into training and testing sets\n",
    "X_reg_train, X_reg_test, y_reg_train, y_reg_test = train_test_split(X_tf_idf, y_data, test_size=0.2, random_state=42)"
   ]
  },
  {
   "cell_type": "code",
   "execution_count": null,
   "id": "eaedc64a-5eab-4c55-8707-6a3e2e7cef58",
   "metadata": {
    "colab": {
     "base_uri": "https://localhost:8080/"
    },
    "id": "eaedc64a-5eab-4c55-8707-6a3e2e7cef58",
    "outputId": "21dc178d-2f98-4395-ef6b-f847ee1bac59"
   },
   "outputs": [],
   "source": [
    "# Para crear la regresión lineal\n",
    "from sklearn.linear_model import Ridge\n",
    "reg = Ridge(alpha=0.7)\n",
    "reg = reg.fit(X_reg_train,y_reg_train)\n",
    "# Probemos ahora este modelo sobre test.\n",
    "y_pred_reg_train = reg.predict(X_reg_train)\n",
    "y_pred_reg_test = reg.predict(X_reg_test)\n",
    "for x in range(y_pred_reg_test.size): #Aproximar los valores dados por la regresión\n",
    "    if y_pred_reg_test[x] > 5:\n",
    "        y_pred_reg_test[x] = 5\n",
    "    elif y_pred_reg_test[x] < 1:\n",
    "        y_pred_reg_test[x] = 1\n",
    "    else:\n",
    "        y_pred_reg_test[x] = round(y_pred_reg_test[x])\n",
    "y_pred_reg_test =y_pred_reg_test.astype('i')\n",
    "\n",
    "print('Exactitud sobre test: %.2f' % accuracy_score(y_reg_test, y_pred_reg_test))\n",
    "\n",
    "\n",
    "print(\"Precisión: {}\".format(precision_score(y_reg_test,y_pred_reg_test, average='weighted')))\n",
    "print(\"Puntuación F1: {}\".format(f1_score(y_reg_test,y_pred_reg_test, average='weighted')))"
   ]
  },
  {
   "cell_type": "code",
   "execution_count": null,
   "id": "2c44728d-1187-4359-9cbe-a53fb514e2d5",
   "metadata": {
    "colab": {
     "base_uri": "https://localhost:8080/",
     "height": 449
    },
    "id": "2c44728d-1187-4359-9cbe-a53fb514e2d5",
    "outputId": "8f105836-6e44-45f5-a7a1-16b4d9dea056"
   },
   "outputs": [],
   "source": [
    "cm = confusion_matrix(y_reg_test,y_pred_reg_test)\n",
    "\n",
    "disp = ConfusionMatrixDisplay(confusion_matrix=cm, display_labels=clf.classes_)\n",
    "disp.plot()\n",
    "\n",
    "plt.show()"
   ]
  },
  {
   "cell_type": "markdown",
   "id": "86818d78-6dc4-46dd-b4ca-40e4017648a9",
   "metadata": {
    "id": "86818d78-6dc4-46dd-b4ca-40e4017648a9"
   },
   "source": [
    "Vemos que nuevamente hubo un gran porcetaje de error en las predicciones, especialmente en valores de calificación 4 que se llevaron a calificación 5, por lo que este modelo sigue teniendo unas métricas un poco peores que las de la Support Vector Machine"
   ]
  },
  {
   "cell_type": "markdown",
   "id": "FO8elGOd6_vg",
   "metadata": {
    "id": "FO8elGOd6_vg"
   },
   "source": [
    "## 4.5 Random forest"
   ]
  },
  {
   "cell_type": "markdown",
   "id": "Usv8Vm_i7Ekk",
   "metadata": {
    "id": "Usv8Vm_i7Ekk"
   },
   "source": [
    "\n",
    "Random Forest es un algoritmo de aprendizaje supervisado que pertenece a la categoría de algoritmos de ensemble y se utiliza para tareas de clasificación y regresión. Durante el entrenamiento, construye un conjunto de árboles de decisión utilizando un subconjunto aleatorio de características y ejemplos de entrenamiento seleccionados mediante bootstrap sampling. Luego, durante la fase de predicción, cada árbol emite una predicción y la clase final se determina por votación (en clasificación) o por promedio (en regresión) de las predicciones individuales de los árboles. Random Forest es robusto ante datos ruidosos, maneja automáticamente la selección de características y reduce el riesgo de sobreajuste al construir múltiples árboles y promediar sus predicciones. Su capacidad para manejar datos variados y su relativa facilidad de uso lo hacen adecuado para proyectos de análisis de sentimientos, donde puede evaluar opiniones diversas y expresiones idiomáticas en reseñas."
   ]
  },
  {
   "cell_type": "code",
   "execution_count": null,
   "id": "8e5b1f67-f3a9-4584-81ff-7db439649919",
   "metadata": {
    "colab": {
     "base_uri": "https://localhost:8080/"
    },
    "id": "8e5b1f67-f3a9-4584-81ff-7db439649919",
    "outputId": "f69e53bd-4fa4-420c-efa3-7e6a5526e278"
   },
   "outputs": [],
   "source": [
    "from sklearn.ensemble import RandomForestClassifier\n",
    "\n",
    "X_rf_train, X_rf_test, y_rf_train, y_rf_test = train_test_split(X_count, y_data, test_size=0.2, random_state=42)\n",
    "\n",
    "rf = RandomForestClassifier(n_estimators=100)\n",
    "rf.fit(X_rf_train, y_rf_train)\n",
    "\n",
    "y_pred_rf_train = rf.predict(X_rf_train)\n",
    "y_pred_rf_test = rf.predict(X_rf_test)\n",
    "\n",
    "print('Exactitud sobre entrenamiento: %.2f' % accuracy_score(y_rf_train, y_pred_rf_train))\n",
    "print('Exactitud sobre test: %.2f' % accuracy_score(y_rf_test, y_pred_rf_test))\n",
    "\n",
    "\n",
    "print(\"Precisión: {}\".format(precision_score(y_rf_test,y_pred_rf_test, average='weighted')))\n",
    "print(\"Puntuación F1: {}\".format(f1_score(y_rf_test,y_pred_rf_test, average='weighted')))"
   ]
  },
  {
   "cell_type": "code",
   "execution_count": null,
   "id": "HTznEq05FFbY",
   "metadata": {
    "colab": {
     "base_uri": "https://localhost:8080/",
     "height": 452
    },
    "id": "HTznEq05FFbY",
    "outputId": "f34abf2e-8f62-4f24-c2bd-03645eea541d"
   },
   "outputs": [],
   "source": [
    "cm = confusion_matrix(y_rf_test,y_pred_rf_test)\n",
    "\n",
    "disp = ConfusionMatrixDisplay(confusion_matrix=cm, display_labels=clf.classes_)\n",
    "disp.plot()\n",
    "\n",
    "plt.show()"
   ]
  },
  {
   "cell_type": "markdown",
   "id": "yvKLxnZVFqHK",
   "metadata": {
    "id": "yvKLxnZVFqHK"
   },
   "source": [
    "\n",
    "Los resultados obtenidos para el modelo de Random Forest muestran una discrepancia notable entre la exactitud en el conjunto de entrenamiento y la exactitud en el conjunto de prueba. Esta discrepancia sugiere que el modelo puede estar sobreajustado a los datos de entrenamiento y no generaliza bien a nuevos datos. La precisión y la puntuación F1 son relativamente bajas, lo que indica que el modelo tiene dificultades para clasificar correctamente las reseñas en todas las categorías de sentimiento. La matriz de confusión muestra que el modelo tiende a clasificar incorrectamente las reseñas, con una distribución desigual de las predicciones en las diferentes categorías de sentimiento. En resumen, los resultados sugieren que el modelo de Random Forest necesita ajustes para mejorar su capacidad de generalización y precisión en la clasificación de las reseñas de sentimientos."
   ]
  },
  {
   "cell_type": "markdown",
   "id": "76ad571e-8b61-48ed-b165-14cdad21fb23",
   "metadata": {
    "id": "76ad571e-8b61-48ed-b165-14cdad21fb23"
   },
   "source": [
    "# 5. Conclusiones"
   ]
  },
  {
   "cell_type": "markdown",
   "id": "8ad6acd0-110a-4af7-894f-d809b134bfff",
   "metadata": {
    "id": "8ad6acd0-110a-4af7-894f-d809b134bfff"
   },
   "source": [
    "Para el modelo final se escogió el modelo de Support Vector Machines que es el que, por un muy pequeño margen, obtuvo mejores métricas. El modelo no obtuvo unos valores idóneos en el análisis cuantitativo, pues el modelo frecuentemente clasifica reseñas de una clase como si fueran de una clase vecina. A pesar de esto, el modelo es congruente con la realidad de los datos y sus predicciones sí dan cuenta, con suficiente precisión, de qué reseñas son positivas y cuáles son negativas, pues aunque confunda reseñas de cierta clase con clases vecinas, practicamente no confunde reseñas totalmente positivas con totalmente negativas. Un análisis de los resultados de este modelo puede ayudar a los atractivos turísticos a encontrar las características más relevantes para los clientes al escribir una reseña."
   ]
  },
  {
   "cell_type": "markdown",
   "id": "7d390fbe-eb4e-4d20-ada7-bec6b39be6e7",
   "metadata": {
    "id": "7d390fbe-eb4e-4d20-ada7-bec6b39be6e7"
   },
   "source": [
    "Entonces hacemos las predicciones para el set de datos sin clasificación y creamos una nube de palabras para las reseñas de calificación 1 y las de calificación 5, para esto empezamos creando un pipeline con todo lo requerido para la predicción:"
   ]
  },
  {
   "cell_type": "code",
   "execution_count": null,
   "id": "9675707b-9f3c-43fb-8ad1-eb338b04646f",
   "metadata": {},
   "outputs": [],
   "source": [
    "from joblib import dump, load\n",
    "from preprocessing import Preprocessing\n",
    "# Downloading stopwords\n",
    "nltk.download(\"punkt\")\n",
    "nltk.download(\"stopwords\")\n",
    "stop_words = stopwords.words(\"spanish\")"
   ]
  },
  {
   "cell_type": "code",
   "execution_count": null,
   "id": "61fa78ae-ada3-4859-b706-3a3735014885",
   "metadata": {
    "id": "61fa78ae-ada3-4859-b706-3a3735014885"
   },
   "outputs": [],
   "source": [
    "pipeline = Pipeline(\n",
    "    [\n",
    "        (\"preprocessing\", preprocessing_trans),\n",
    "        (\"vectorizer\", tfidf_vectorizer),\n",
    "        (\"SVC\", SVC(C=10))\n",
    "    ]\n",
    ")"
   ]
  },
  {
   "cell_type": "code",
   "execution_count": null,
   "id": "4cc8a921-b2c7-4e23-aabe-38950d4d87db",
   "metadata": {
    "tags": []
   },
   "outputs": [],
   "source": [
    "X_train, X_test, y_train, y_test = train_test_split(dfData[[\"Review\"]], dfData[\"Class\"], test_size=0.3, stratify=dfData[\"Class\"], random_state=1)"
   ]
  },
  {
   "cell_type": "code",
   "execution_count": null,
   "id": "1c06f3b3-9760-4af5-bfc2-8049c08e26b1",
   "metadata": {},
   "outputs": [],
   "source": [
    "pipeline.fit(X_train, y_train)"
   ]
  },
  {
   "cell_type": "code",
   "execution_count": null,
   "id": "d38f9ff6-8805-471c-8c8c-ac3dde7651e6",
   "metadata": {},
   "outputs": [],
   "source": [
    "dump(pipeline, \"model.joblib\")"
   ]
  },
  {
   "cell_type": "code",
   "execution_count": null,
   "id": "31c7e295-0e3b-4230-8e6b-d4682623427f",
   "metadata": {
    "colab": {
     "base_uri": "https://localhost:8080/"
    },
    "id": "31c7e295-0e3b-4230-8e6b-d4682623427f",
    "outputId": "85125b95-b925-479f-bc32-f4ae8a011ed0"
   },
   "outputs": [],
   "source": [
    "!pip install wordcloud\n",
    "from wordcloud import WordCloud, STOPWORDS, ImageColorGenerator"
   ]
  },
  {
   "cell_type": "code",
   "execution_count": null,
   "id": "9a203f86-3845-4697-b715-d1cf95c8cfe5",
   "metadata": {
    "id": "9a203f86-3845-4697-b715-d1cf95c8cfe5"
   },
   "outputs": [],
   "source": [
    "pipeline.fit(X_data,y_data)\n",
    "df_nuevos_datos = pd.read_csv('particion_prueba_estudiantes.csv', delimiter=',')\n",
    "df_nuevos_datos[\"Class\"] = pipeline.predict(df_nuevos_datos[\"Review\"])\n",
    "df_nuevos_datos.head(5)\n",
    "df_nuevos_datos.to_excel(\"Predicciones_datos_de_prueba_proyecto1.xlsx\")\n"
   ]
  },
  {
   "cell_type": "code",
   "execution_count": null,
   "id": "3ad98d0c-ae4e-4f61-869e-03277fe0b616",
   "metadata": {
    "id": "3ad98d0c-ae4e-4f61-869e-03277fe0b616"
   },
   "outputs": [],
   "source": [
    "from wordcloud import WordCloud, STOPWORDS\n",
    "\n",
    "def mostrar_grafico(palabras,stopwords=[]):\n",
    "    comment_words = ''\n",
    "\n",
    "    # iterate through the csv file\n",
    "    for val in palabras:\n",
    "\n",
    "        # typecaste each val to string\n",
    "        val = str(val)\n",
    "\n",
    "        # split the value\n",
    "        tokens = val.split()\n",
    "\n",
    "        # Converts each token into lowercase\n",
    "        for i in range(len(tokens)):\n",
    "            tokens[i] = tokens[i].lower()\n",
    "\n",
    "        comment_words += \" \".join(tokens)+\" \"\n",
    "\n",
    "    wordcloud = WordCloud(width = 800, height = 800,\n",
    "                    background_color ='white',\n",
    "                    stopwords = stopwords,\n",
    "                    min_font_size = 10).generate(comment_words)\n",
    "\n",
    "    # plot the WordCloud image\n",
    "    plt.figure(figsize = (8, 8), facecolor = None)\n",
    "    plt.imshow(wordcloud)\n",
    "    plt.axis(\"off\")\n",
    "    plt.tight_layout(pad = 0)\n",
    "\n",
    "    plt.show()"
   ]
  },
  {
   "cell_type": "code",
   "execution_count": null,
   "id": "5b1aae39-9372-4bb0-937c-2dcf8478a6d2",
   "metadata": {
    "colab": {
     "base_uri": "https://localhost:8080/",
     "height": 1000
    },
    "id": "5b1aae39-9372-4bb0-937c-2dcf8478a6d2",
    "outputId": "3544bf40-70db-420e-d832-5aceb788b193"
   },
   "outputs": [],
   "source": [
    "stop_words = stopwords.words('spanish')\n",
    "print(f'---------- Words for class: 1 ----------')\n",
    "mostrar_grafico(df_nuevos_datos.loc[df_nuevos_datos['Class']==1,'Review'], stopwords=stop_words)\n",
    "print(f'---------- Words for class: 5 ----------')\n",
    "mostrar_grafico(df_nuevos_datos.loc[df_nuevos_datos['Class']==5,'Review'], stopwords=stop_words)"
   ]
  },
  {
   "cell_type": "code",
   "execution_count": null,
   "id": "4ce683f2-50c1-4c21-9947-f7e479582c42",
   "metadata": {
    "id": "4ce683f2-50c1-4c21-9947-f7e479582c42"
   },
   "outputs": [],
   "source": []
  }
 ],
 "metadata": {
  "colab": {
   "provenance": []
  },
  "kernelspec": {
   "display_name": "Python 3 (ipykernel)",
   "language": "python",
   "name": "python3"
  },
  "language_info": {
   "codemirror_mode": {
    "name": "ipython",
    "version": 3
   },
   "file_extension": ".py",
   "mimetype": "text/x-python",
   "name": "python",
   "nbconvert_exporter": "python",
   "pygments_lexer": "ipython3",
   "version": "3.10.11"
  },
  "widgets": {
   "application/vnd.jupyter.widget-state+json": {
    "120fd78dfc564e7db04dd5d4eab3b4b5": {
     "model_module": "@jupyter-widgets/base",
     "model_module_version": "1.2.0",
     "model_name": "LayoutModel",
     "state": {
      "_model_module": "@jupyter-widgets/base",
      "_model_module_version": "1.2.0",
      "_model_name": "LayoutModel",
      "_view_count": null,
      "_view_module": "@jupyter-widgets/base",
      "_view_module_version": "1.2.0",
      "_view_name": "LayoutView",
      "align_content": null,
      "align_items": null,
      "align_self": null,
      "border": null,
      "bottom": null,
      "display": null,
      "flex": null,
      "flex_flow": null,
      "grid_area": null,
      "grid_auto_columns": null,
      "grid_auto_flow": null,
      "grid_auto_rows": null,
      "grid_column": null,
      "grid_gap": null,
      "grid_row": null,
      "grid_template_areas": null,
      "grid_template_columns": null,
      "grid_template_rows": null,
      "height": null,
      "justify_content": null,
      "justify_items": null,
      "left": null,
      "margin": null,
      "max_height": null,
      "max_width": null,
      "min_height": null,
      "min_width": null,
      "object_fit": null,
      "object_position": null,
      "order": null,
      "overflow": null,
      "overflow_x": null,
      "overflow_y": null,
      "padding": null,
      "right": null,
      "top": null,
      "visibility": null,
      "width": null
     }
    },
    "2207a00c13254011940fba956ad3b769": {
     "model_module": "@jupyter-widgets/base",
     "model_module_version": "1.2.0",
     "model_name": "LayoutModel",
     "state": {
      "_model_module": "@jupyter-widgets/base",
      "_model_module_version": "1.2.0",
      "_model_name": "LayoutModel",
      "_view_count": null,
      "_view_module": "@jupyter-widgets/base",
      "_view_module_version": "1.2.0",
      "_view_name": "LayoutView",
      "align_content": null,
      "align_items": null,
      "align_self": null,
      "border": null,
      "bottom": null,
      "display": null,
      "flex": null,
      "flex_flow": null,
      "grid_area": null,
      "grid_auto_columns": null,
      "grid_auto_flow": null,
      "grid_auto_rows": null,
      "grid_column": null,
      "grid_gap": null,
      "grid_row": null,
      "grid_template_areas": null,
      "grid_template_columns": null,
      "grid_template_rows": null,
      "height": null,
      "justify_content": null,
      "justify_items": null,
      "left": null,
      "margin": null,
      "max_height": null,
      "max_width": null,
      "min_height": null,
      "min_width": null,
      "object_fit": null,
      "object_position": null,
      "order": null,
      "overflow": null,
      "overflow_x": null,
      "overflow_y": null,
      "padding": null,
      "right": null,
      "top": null,
      "visibility": null,
      "width": null
     }
    },
    "22fa2d6333db4f378238660846033f2e": {
     "model_module": "@jupyter-widgets/controls",
     "model_module_version": "1.5.0",
     "model_name": "HTMLModel",
     "state": {
      "_dom_classes": [],
      "_model_module": "@jupyter-widgets/controls",
      "_model_module_version": "1.5.0",
      "_model_name": "HTMLModel",
      "_view_count": null,
      "_view_module": "@jupyter-widgets/controls",
      "_view_module_version": "1.5.0",
      "_view_name": "HTMLView",
      "description": "",
      "description_tooltip": null,
      "layout": "IPY_MODEL_120fd78dfc564e7db04dd5d4eab3b4b5",
      "placeholder": "​",
      "style": "IPY_MODEL_256295ad8be94d0ab1f7764c324343f7",
      "value": "Generate report structure: 100%"
     }
    },
    "256295ad8be94d0ab1f7764c324343f7": {
     "model_module": "@jupyter-widgets/controls",
     "model_module_version": "1.5.0",
     "model_name": "DescriptionStyleModel",
     "state": {
      "_model_module": "@jupyter-widgets/controls",
      "_model_module_version": "1.5.0",
      "_model_name": "DescriptionStyleModel",
      "_view_count": null,
      "_view_module": "@jupyter-widgets/base",
      "_view_module_version": "1.2.0",
      "_view_name": "StyleView",
      "description_width": ""
     }
    },
    "2c4d7e00ecdd48abad7fdfd51d46fcdc": {
     "model_module": "@jupyter-widgets/controls",
     "model_module_version": "1.5.0",
     "model_name": "FloatProgressModel",
     "state": {
      "_dom_classes": [],
      "_model_module": "@jupyter-widgets/controls",
      "_model_module_version": "1.5.0",
      "_model_name": "FloatProgressModel",
      "_view_count": null,
      "_view_module": "@jupyter-widgets/controls",
      "_view_module_version": "1.5.0",
      "_view_name": "ProgressView",
      "bar_style": "success",
      "description": "",
      "description_tooltip": null,
      "layout": "IPY_MODEL_7520e66ed4514641912e0e79b4ff8330",
      "max": 1,
      "min": 0,
      "orientation": "horizontal",
      "style": "IPY_MODEL_c871149fdb564ea19f7a94f1336b6326",
      "value": 1
     }
    },
    "309e0ebeb78548209494dfa5677d5c9c": {
     "model_module": "@jupyter-widgets/controls",
     "model_module_version": "1.5.0",
     "model_name": "FloatProgressModel",
     "state": {
      "_dom_classes": [],
      "_model_module": "@jupyter-widgets/controls",
      "_model_module_version": "1.5.0",
      "_model_name": "FloatProgressModel",
      "_view_count": null,
      "_view_module": "@jupyter-widgets/controls",
      "_view_module_version": "1.5.0",
      "_view_name": "ProgressView",
      "bar_style": "success",
      "description": "",
      "description_tooltip": null,
      "layout": "IPY_MODEL_42fd813e0dc64af1b95e1273fad1063a",
      "max": 1,
      "min": 0,
      "orientation": "horizontal",
      "style": "IPY_MODEL_c9e8ff682f174af782495138a40fdfc9",
      "value": 1
     }
    },
    "40a3b06f17784b088afe72b91d95e0ea": {
     "model_module": "@jupyter-widgets/base",
     "model_module_version": "1.2.0",
     "model_name": "LayoutModel",
     "state": {
      "_model_module": "@jupyter-widgets/base",
      "_model_module_version": "1.2.0",
      "_model_name": "LayoutModel",
      "_view_count": null,
      "_view_module": "@jupyter-widgets/base",
      "_view_module_version": "1.2.0",
      "_view_name": "LayoutView",
      "align_content": null,
      "align_items": null,
      "align_self": null,
      "border": null,
      "bottom": null,
      "display": null,
      "flex": null,
      "flex_flow": null,
      "grid_area": null,
      "grid_auto_columns": null,
      "grid_auto_flow": null,
      "grid_auto_rows": null,
      "grid_column": null,
      "grid_gap": null,
      "grid_row": null,
      "grid_template_areas": null,
      "grid_template_columns": null,
      "grid_template_rows": null,
      "height": null,
      "justify_content": null,
      "justify_items": null,
      "left": null,
      "margin": null,
      "max_height": null,
      "max_width": null,
      "min_height": null,
      "min_width": null,
      "object_fit": null,
      "object_position": null,
      "order": null,
      "overflow": null,
      "overflow_x": null,
      "overflow_y": null,
      "padding": null,
      "right": null,
      "top": null,
      "visibility": null,
      "width": null
     }
    },
    "4291c68750494635917b1e7f3204dd84": {
     "model_module": "@jupyter-widgets/controls",
     "model_module_version": "1.5.0",
     "model_name": "FloatProgressModel",
     "state": {
      "_dom_classes": [],
      "_model_module": "@jupyter-widgets/controls",
      "_model_module_version": "1.5.0",
      "_model_name": "FloatProgressModel",
      "_view_count": null,
      "_view_module": "@jupyter-widgets/controls",
      "_view_module_version": "1.5.0",
      "_view_name": "ProgressView",
      "bar_style": "success",
      "description": "",
      "description_tooltip": null,
      "layout": "IPY_MODEL_40a3b06f17784b088afe72b91d95e0ea",
      "max": 5,
      "min": 0,
      "orientation": "horizontal",
      "style": "IPY_MODEL_6f73c60b65a845dba4373d8b7b2d262a",
      "value": 5
     }
    },
    "42fd813e0dc64af1b95e1273fad1063a": {
     "model_module": "@jupyter-widgets/base",
     "model_module_version": "1.2.0",
     "model_name": "LayoutModel",
     "state": {
      "_model_module": "@jupyter-widgets/base",
      "_model_module_version": "1.2.0",
      "_model_name": "LayoutModel",
      "_view_count": null,
      "_view_module": "@jupyter-widgets/base",
      "_view_module_version": "1.2.0",
      "_view_name": "LayoutView",
      "align_content": null,
      "align_items": null,
      "align_self": null,
      "border": null,
      "bottom": null,
      "display": null,
      "flex": null,
      "flex_flow": null,
      "grid_area": null,
      "grid_auto_columns": null,
      "grid_auto_flow": null,
      "grid_auto_rows": null,
      "grid_column": null,
      "grid_gap": null,
      "grid_row": null,
      "grid_template_areas": null,
      "grid_template_columns": null,
      "grid_template_rows": null,
      "height": null,
      "justify_content": null,
      "justify_items": null,
      "left": null,
      "margin": null,
      "max_height": null,
      "max_width": null,
      "min_height": null,
      "min_width": null,
      "object_fit": null,
      "object_position": null,
      "order": null,
      "overflow": null,
      "overflow_x": null,
      "overflow_y": null,
      "padding": null,
      "right": null,
      "top": null,
      "visibility": null,
      "width": null
     }
    },
    "56b2f9a6c10844399e738b8503511792": {
     "model_module": "@jupyter-widgets/controls",
     "model_module_version": "1.5.0",
     "model_name": "HTMLModel",
     "state": {
      "_dom_classes": [],
      "_model_module": "@jupyter-widgets/controls",
      "_model_module_version": "1.5.0",
      "_model_name": "HTMLModel",
      "_view_count": null,
      "_view_module": "@jupyter-widgets/controls",
      "_view_module_version": "1.5.0",
      "_view_name": "HTMLView",
      "description": "",
      "description_tooltip": null,
      "layout": "IPY_MODEL_c56daf01d17d469899b5706fd24cb666",
      "placeholder": "​",
      "style": "IPY_MODEL_9ffd7c40fa1643429d574c42c4a846ea",
      "value": " 24/24 [00:09&lt;00:00,  1.86it/s, Completed]"
     }
    },
    "56e06099a0a94d72982995386a0ef5b2": {
     "model_module": "@jupyter-widgets/base",
     "model_module_version": "1.2.0",
     "model_name": "LayoutModel",
     "state": {
      "_model_module": "@jupyter-widgets/base",
      "_model_module_version": "1.2.0",
      "_model_name": "LayoutModel",
      "_view_count": null,
      "_view_module": "@jupyter-widgets/base",
      "_view_module_version": "1.2.0",
      "_view_name": "LayoutView",
      "align_content": null,
      "align_items": null,
      "align_self": null,
      "border": null,
      "bottom": null,
      "display": null,
      "flex": null,
      "flex_flow": null,
      "grid_area": null,
      "grid_auto_columns": null,
      "grid_auto_flow": null,
      "grid_auto_rows": null,
      "grid_column": null,
      "grid_gap": null,
      "grid_row": null,
      "grid_template_areas": null,
      "grid_template_columns": null,
      "grid_template_rows": null,
      "height": null,
      "justify_content": null,
      "justify_items": null,
      "left": null,
      "margin": null,
      "max_height": null,
      "max_width": null,
      "min_height": null,
      "min_width": null,
      "object_fit": null,
      "object_position": null,
      "order": null,
      "overflow": null,
      "overflow_x": null,
      "overflow_y": null,
      "padding": null,
      "right": null,
      "top": null,
      "visibility": null,
      "width": null
     }
    },
    "5d5c22e63f3941e1a297403131b8dd16": {
     "model_module": "@jupyter-widgets/controls",
     "model_module_version": "1.5.0",
     "model_name": "DescriptionStyleModel",
     "state": {
      "_model_module": "@jupyter-widgets/controls",
      "_model_module_version": "1.5.0",
      "_model_name": "DescriptionStyleModel",
      "_view_count": null,
      "_view_module": "@jupyter-widgets/base",
      "_view_module_version": "1.2.0",
      "_view_name": "StyleView",
      "description_width": ""
     }
    },
    "63a61e88c2fd4dd9aecaca514e4fa75b": {
     "model_module": "@jupyter-widgets/controls",
     "model_module_version": "1.5.0",
     "model_name": "HTMLModel",
     "state": {
      "_dom_classes": [],
      "_model_module": "@jupyter-widgets/controls",
      "_model_module_version": "1.5.0",
      "_model_name": "HTMLModel",
      "_view_count": null,
      "_view_module": "@jupyter-widgets/controls",
      "_view_module_version": "1.5.0",
      "_view_name": "HTMLView",
      "description": "",
      "description_tooltip": null,
      "layout": "IPY_MODEL_56e06099a0a94d72982995386a0ef5b2",
      "placeholder": "​",
      "style": "IPY_MODEL_b8ef3a70fe9c42f4a0afb67ac1ac0fab",
      "value": "Render HTML: 100%"
     }
    },
    "6a1f9756f8ad447d8c79009e74ce97ea": {
     "model_module": "@jupyter-widgets/base",
     "model_module_version": "1.2.0",
     "model_name": "LayoutModel",
     "state": {
      "_model_module": "@jupyter-widgets/base",
      "_model_module_version": "1.2.0",
      "_model_name": "LayoutModel",
      "_view_count": null,
      "_view_module": "@jupyter-widgets/base",
      "_view_module_version": "1.2.0",
      "_view_name": "LayoutView",
      "align_content": null,
      "align_items": null,
      "align_self": null,
      "border": null,
      "bottom": null,
      "display": null,
      "flex": null,
      "flex_flow": null,
      "grid_area": null,
      "grid_auto_columns": null,
      "grid_auto_flow": null,
      "grid_auto_rows": null,
      "grid_column": null,
      "grid_gap": null,
      "grid_row": null,
      "grid_template_areas": null,
      "grid_template_columns": null,
      "grid_template_rows": null,
      "height": null,
      "justify_content": null,
      "justify_items": null,
      "left": null,
      "margin": null,
      "max_height": null,
      "max_width": null,
      "min_height": null,
      "min_width": null,
      "object_fit": null,
      "object_position": null,
      "order": null,
      "overflow": null,
      "overflow_x": null,
      "overflow_y": null,
      "padding": null,
      "right": null,
      "top": null,
      "visibility": null,
      "width": null
     }
    },
    "6b0f3b1c71504290bd7086ce3f1a3f8c": {
     "model_module": "@jupyter-widgets/controls",
     "model_module_version": "1.5.0",
     "model_name": "HTMLModel",
     "state": {
      "_dom_classes": [],
      "_model_module": "@jupyter-widgets/controls",
      "_model_module_version": "1.5.0",
      "_model_name": "HTMLModel",
      "_view_count": null,
      "_view_module": "@jupyter-widgets/controls",
      "_view_module_version": "1.5.0",
      "_view_name": "HTMLView",
      "description": "",
      "description_tooltip": null,
      "layout": "IPY_MODEL_2207a00c13254011940fba956ad3b769",
      "placeholder": "​",
      "style": "IPY_MODEL_e0171d4da88b4087bcabfaf76a4a6064",
      "value": " 1/1 [00:02&lt;00:00,  2.30s/it]"
     }
    },
    "6f73c60b65a845dba4373d8b7b2d262a": {
     "model_module": "@jupyter-widgets/controls",
     "model_module_version": "1.5.0",
     "model_name": "ProgressStyleModel",
     "state": {
      "_model_module": "@jupyter-widgets/controls",
      "_model_module_version": "1.5.0",
      "_model_name": "ProgressStyleModel",
      "_view_count": null,
      "_view_module": "@jupyter-widgets/base",
      "_view_module_version": "1.2.0",
      "_view_name": "StyleView",
      "bar_color": null,
      "description_width": ""
     }
    },
    "7520e66ed4514641912e0e79b4ff8330": {
     "model_module": "@jupyter-widgets/base",
     "model_module_version": "1.2.0",
     "model_name": "LayoutModel",
     "state": {
      "_model_module": "@jupyter-widgets/base",
      "_model_module_version": "1.2.0",
      "_model_name": "LayoutModel",
      "_view_count": null,
      "_view_module": "@jupyter-widgets/base",
      "_view_module_version": "1.2.0",
      "_view_name": "LayoutView",
      "align_content": null,
      "align_items": null,
      "align_self": null,
      "border": null,
      "bottom": null,
      "display": null,
      "flex": null,
      "flex_flow": null,
      "grid_area": null,
      "grid_auto_columns": null,
      "grid_auto_flow": null,
      "grid_auto_rows": null,
      "grid_column": null,
      "grid_gap": null,
      "grid_row": null,
      "grid_template_areas": null,
      "grid_template_columns": null,
      "grid_template_rows": null,
      "height": null,
      "justify_content": null,
      "justify_items": null,
      "left": null,
      "margin": null,
      "max_height": null,
      "max_width": null,
      "min_height": null,
      "min_width": null,
      "object_fit": null,
      "object_position": null,
      "order": null,
      "overflow": null,
      "overflow_x": null,
      "overflow_y": null,
      "padding": null,
      "right": null,
      "top": null,
      "visibility": null,
      "width": null
     }
    },
    "77aa8b9ba36e46719ef80f348970b92c": {
     "model_module": "@jupyter-widgets/controls",
     "model_module_version": "1.5.0",
     "model_name": "HBoxModel",
     "state": {
      "_dom_classes": [],
      "_model_module": "@jupyter-widgets/controls",
      "_model_module_version": "1.5.0",
      "_model_name": "HBoxModel",
      "_view_count": null,
      "_view_module": "@jupyter-widgets/controls",
      "_view_module_version": "1.5.0",
      "_view_name": "HBoxView",
      "box_style": "",
      "children": [
       "IPY_MODEL_ccabea32bb7245c5b34d938260d6f027",
       "IPY_MODEL_4291c68750494635917b1e7f3204dd84",
       "IPY_MODEL_56b2f9a6c10844399e738b8503511792"
      ],
      "layout": "IPY_MODEL_f613baef51e34beb808d4978a5fa219d"
     }
    },
    "8361de67987f497fa584039f6aadd2c7": {
     "model_module": "@jupyter-widgets/controls",
     "model_module_version": "1.5.0",
     "model_name": "HTMLModel",
     "state": {
      "_dom_classes": [],
      "_model_module": "@jupyter-widgets/controls",
      "_model_module_version": "1.5.0",
      "_model_name": "HTMLModel",
      "_view_count": null,
      "_view_module": "@jupyter-widgets/controls",
      "_view_module_version": "1.5.0",
      "_view_name": "HTMLView",
      "description": "",
      "description_tooltip": null,
      "layout": "IPY_MODEL_df29546fefd645a8bd76597dc9b59cd1",
      "placeholder": "​",
      "style": "IPY_MODEL_8395e0a072fa40329826cfa1ecbba0a0",
      "value": " 1/1 [00:09&lt;00:00,  9.56s/it]"
     }
    },
    "8395e0a072fa40329826cfa1ecbba0a0": {
     "model_module": "@jupyter-widgets/controls",
     "model_module_version": "1.5.0",
     "model_name": "DescriptionStyleModel",
     "state": {
      "_model_module": "@jupyter-widgets/controls",
      "_model_module_version": "1.5.0",
      "_model_name": "DescriptionStyleModel",
      "_view_count": null,
      "_view_module": "@jupyter-widgets/base",
      "_view_module_version": "1.2.0",
      "_view_name": "StyleView",
      "description_width": ""
     }
    },
    "89eb3884cfb34156b02ca3509bc92ca4": {
     "model_module": "@jupyter-widgets/base",
     "model_module_version": "1.2.0",
     "model_name": "LayoutModel",
     "state": {
      "_model_module": "@jupyter-widgets/base",
      "_model_module_version": "1.2.0",
      "_model_name": "LayoutModel",
      "_view_count": null,
      "_view_module": "@jupyter-widgets/base",
      "_view_module_version": "1.2.0",
      "_view_name": "LayoutView",
      "align_content": null,
      "align_items": null,
      "align_self": null,
      "border": null,
      "bottom": null,
      "display": null,
      "flex": null,
      "flex_flow": null,
      "grid_area": null,
      "grid_auto_columns": null,
      "grid_auto_flow": null,
      "grid_auto_rows": null,
      "grid_column": null,
      "grid_gap": null,
      "grid_row": null,
      "grid_template_areas": null,
      "grid_template_columns": null,
      "grid_template_rows": null,
      "height": null,
      "justify_content": null,
      "justify_items": null,
      "left": null,
      "margin": null,
      "max_height": null,
      "max_width": null,
      "min_height": null,
      "min_width": null,
      "object_fit": null,
      "object_position": null,
      "order": null,
      "overflow": null,
      "overflow_x": null,
      "overflow_y": null,
      "padding": null,
      "right": null,
      "top": null,
      "visibility": null,
      "width": null
     }
    },
    "9ffd7c40fa1643429d574c42c4a846ea": {
     "model_module": "@jupyter-widgets/controls",
     "model_module_version": "1.5.0",
     "model_name": "DescriptionStyleModel",
     "state": {
      "_model_module": "@jupyter-widgets/controls",
      "_model_module_version": "1.5.0",
      "_model_name": "DescriptionStyleModel",
      "_view_count": null,
      "_view_module": "@jupyter-widgets/base",
      "_view_module_version": "1.2.0",
      "_view_name": "StyleView",
      "description_width": ""
     }
    },
    "aa5589d208b6462aa4cca5334ec0d141": {
     "model_module": "@jupyter-widgets/base",
     "model_module_version": "1.2.0",
     "model_name": "LayoutModel",
     "state": {
      "_model_module": "@jupyter-widgets/base",
      "_model_module_version": "1.2.0",
      "_model_name": "LayoutModel",
      "_view_count": null,
      "_view_module": "@jupyter-widgets/base",
      "_view_module_version": "1.2.0",
      "_view_name": "LayoutView",
      "align_content": null,
      "align_items": null,
      "align_self": null,
      "border": null,
      "bottom": null,
      "display": null,
      "flex": null,
      "flex_flow": null,
      "grid_area": null,
      "grid_auto_columns": null,
      "grid_auto_flow": null,
      "grid_auto_rows": null,
      "grid_column": null,
      "grid_gap": null,
      "grid_row": null,
      "grid_template_areas": null,
      "grid_template_columns": null,
      "grid_template_rows": null,
      "height": null,
      "justify_content": null,
      "justify_items": null,
      "left": null,
      "margin": null,
      "max_height": null,
      "max_width": null,
      "min_height": null,
      "min_width": null,
      "object_fit": null,
      "object_position": null,
      "order": null,
      "overflow": null,
      "overflow_x": null,
      "overflow_y": null,
      "padding": null,
      "right": null,
      "top": null,
      "visibility": null,
      "width": null
     }
    },
    "af1b294ea0ba481ea3e23bd6c9481cd0": {
     "model_module": "@jupyter-widgets/controls",
     "model_module_version": "1.5.0",
     "model_name": "HBoxModel",
     "state": {
      "_dom_classes": [],
      "_model_module": "@jupyter-widgets/controls",
      "_model_module_version": "1.5.0",
      "_model_name": "HBoxModel",
      "_view_count": null,
      "_view_module": "@jupyter-widgets/controls",
      "_view_module_version": "1.5.0",
      "_view_name": "HBoxView",
      "box_style": "",
      "children": [
       "IPY_MODEL_63a61e88c2fd4dd9aecaca514e4fa75b",
       "IPY_MODEL_2c4d7e00ecdd48abad7fdfd51d46fcdc",
       "IPY_MODEL_6b0f3b1c71504290bd7086ce3f1a3f8c"
      ],
      "layout": "IPY_MODEL_6a1f9756f8ad447d8c79009e74ce97ea"
     }
    },
    "b8ef3a70fe9c42f4a0afb67ac1ac0fab": {
     "model_module": "@jupyter-widgets/controls",
     "model_module_version": "1.5.0",
     "model_name": "DescriptionStyleModel",
     "state": {
      "_model_module": "@jupyter-widgets/controls",
      "_model_module_version": "1.5.0",
      "_model_name": "DescriptionStyleModel",
      "_view_count": null,
      "_view_module": "@jupyter-widgets/base",
      "_view_module_version": "1.2.0",
      "_view_name": "StyleView",
      "description_width": ""
     }
    },
    "c56daf01d17d469899b5706fd24cb666": {
     "model_module": "@jupyter-widgets/base",
     "model_module_version": "1.2.0",
     "model_name": "LayoutModel",
     "state": {
      "_model_module": "@jupyter-widgets/base",
      "_model_module_version": "1.2.0",
      "_model_name": "LayoutModel",
      "_view_count": null,
      "_view_module": "@jupyter-widgets/base",
      "_view_module_version": "1.2.0",
      "_view_name": "LayoutView",
      "align_content": null,
      "align_items": null,
      "align_self": null,
      "border": null,
      "bottom": null,
      "display": null,
      "flex": null,
      "flex_flow": null,
      "grid_area": null,
      "grid_auto_columns": null,
      "grid_auto_flow": null,
      "grid_auto_rows": null,
      "grid_column": null,
      "grid_gap": null,
      "grid_row": null,
      "grid_template_areas": null,
      "grid_template_columns": null,
      "grid_template_rows": null,
      "height": null,
      "justify_content": null,
      "justify_items": null,
      "left": null,
      "margin": null,
      "max_height": null,
      "max_width": null,
      "min_height": null,
      "min_width": null,
      "object_fit": null,
      "object_position": null,
      "order": null,
      "overflow": null,
      "overflow_x": null,
      "overflow_y": null,
      "padding": null,
      "right": null,
      "top": null,
      "visibility": null,
      "width": null
     }
    },
    "c871149fdb564ea19f7a94f1336b6326": {
     "model_module": "@jupyter-widgets/controls",
     "model_module_version": "1.5.0",
     "model_name": "ProgressStyleModel",
     "state": {
      "_model_module": "@jupyter-widgets/controls",
      "_model_module_version": "1.5.0",
      "_model_name": "ProgressStyleModel",
      "_view_count": null,
      "_view_module": "@jupyter-widgets/base",
      "_view_module_version": "1.2.0",
      "_view_name": "StyleView",
      "bar_color": null,
      "description_width": ""
     }
    },
    "c9e8ff682f174af782495138a40fdfc9": {
     "model_module": "@jupyter-widgets/controls",
     "model_module_version": "1.5.0",
     "model_name": "ProgressStyleModel",
     "state": {
      "_model_module": "@jupyter-widgets/controls",
      "_model_module_version": "1.5.0",
      "_model_name": "ProgressStyleModel",
      "_view_count": null,
      "_view_module": "@jupyter-widgets/base",
      "_view_module_version": "1.2.0",
      "_view_name": "StyleView",
      "bar_color": null,
      "description_width": ""
     }
    },
    "ccabea32bb7245c5b34d938260d6f027": {
     "model_module": "@jupyter-widgets/controls",
     "model_module_version": "1.5.0",
     "model_name": "HTMLModel",
     "state": {
      "_dom_classes": [],
      "_model_module": "@jupyter-widgets/controls",
      "_model_module_version": "1.5.0",
      "_model_name": "HTMLModel",
      "_view_count": null,
      "_view_module": "@jupyter-widgets/controls",
      "_view_module_version": "1.5.0",
      "_view_name": "HTMLView",
      "description": "",
      "description_tooltip": null,
      "layout": "IPY_MODEL_89eb3884cfb34156b02ca3509bc92ca4",
      "placeholder": "​",
      "style": "IPY_MODEL_5d5c22e63f3941e1a297403131b8dd16",
      "value": "Summarize dataset: 100%"
     }
    },
    "df29546fefd645a8bd76597dc9b59cd1": {
     "model_module": "@jupyter-widgets/base",
     "model_module_version": "1.2.0",
     "model_name": "LayoutModel",
     "state": {
      "_model_module": "@jupyter-widgets/base",
      "_model_module_version": "1.2.0",
      "_model_name": "LayoutModel",
      "_view_count": null,
      "_view_module": "@jupyter-widgets/base",
      "_view_module_version": "1.2.0",
      "_view_name": "LayoutView",
      "align_content": null,
      "align_items": null,
      "align_self": null,
      "border": null,
      "bottom": null,
      "display": null,
      "flex": null,
      "flex_flow": null,
      "grid_area": null,
      "grid_auto_columns": null,
      "grid_auto_flow": null,
      "grid_auto_rows": null,
      "grid_column": null,
      "grid_gap": null,
      "grid_row": null,
      "grid_template_areas": null,
      "grid_template_columns": null,
      "grid_template_rows": null,
      "height": null,
      "justify_content": null,
      "justify_items": null,
      "left": null,
      "margin": null,
      "max_height": null,
      "max_width": null,
      "min_height": null,
      "min_width": null,
      "object_fit": null,
      "object_position": null,
      "order": null,
      "overflow": null,
      "overflow_x": null,
      "overflow_y": null,
      "padding": null,
      "right": null,
      "top": null,
      "visibility": null,
      "width": null
     }
    },
    "dfecf60f0a094d3e9d73aff7e6829983": {
     "model_module": "@jupyter-widgets/controls",
     "model_module_version": "1.5.0",
     "model_name": "HBoxModel",
     "state": {
      "_dom_classes": [],
      "_model_module": "@jupyter-widgets/controls",
      "_model_module_version": "1.5.0",
      "_model_name": "HBoxModel",
      "_view_count": null,
      "_view_module": "@jupyter-widgets/controls",
      "_view_module_version": "1.5.0",
      "_view_name": "HBoxView",
      "box_style": "",
      "children": [
       "IPY_MODEL_22fa2d6333db4f378238660846033f2e",
       "IPY_MODEL_309e0ebeb78548209494dfa5677d5c9c",
       "IPY_MODEL_8361de67987f497fa584039f6aadd2c7"
      ],
      "layout": "IPY_MODEL_aa5589d208b6462aa4cca5334ec0d141"
     }
    },
    "e0171d4da88b4087bcabfaf76a4a6064": {
     "model_module": "@jupyter-widgets/controls",
     "model_module_version": "1.5.0",
     "model_name": "DescriptionStyleModel",
     "state": {
      "_model_module": "@jupyter-widgets/controls",
      "_model_module_version": "1.5.0",
      "_model_name": "DescriptionStyleModel",
      "_view_count": null,
      "_view_module": "@jupyter-widgets/base",
      "_view_module_version": "1.2.0",
      "_view_name": "StyleView",
      "description_width": ""
     }
    },
    "f613baef51e34beb808d4978a5fa219d": {
     "model_module": "@jupyter-widgets/base",
     "model_module_version": "1.2.0",
     "model_name": "LayoutModel",
     "state": {
      "_model_module": "@jupyter-widgets/base",
      "_model_module_version": "1.2.0",
      "_model_name": "LayoutModel",
      "_view_count": null,
      "_view_module": "@jupyter-widgets/base",
      "_view_module_version": "1.2.0",
      "_view_name": "LayoutView",
      "align_content": null,
      "align_items": null,
      "align_self": null,
      "border": null,
      "bottom": null,
      "display": null,
      "flex": null,
      "flex_flow": null,
      "grid_area": null,
      "grid_auto_columns": null,
      "grid_auto_flow": null,
      "grid_auto_rows": null,
      "grid_column": null,
      "grid_gap": null,
      "grid_row": null,
      "grid_template_areas": null,
      "grid_template_columns": null,
      "grid_template_rows": null,
      "height": null,
      "justify_content": null,
      "justify_items": null,
      "left": null,
      "margin": null,
      "max_height": null,
      "max_width": null,
      "min_height": null,
      "min_width": null,
      "object_fit": null,
      "object_position": null,
      "order": null,
      "overflow": null,
      "overflow_x": null,
      "overflow_y": null,
      "padding": null,
      "right": null,
      "top": null,
      "visibility": null,
      "width": null
     }
    }
   }
  }
 },
 "nbformat": 4,
 "nbformat_minor": 5
}
